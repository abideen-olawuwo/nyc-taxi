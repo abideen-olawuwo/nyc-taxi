{
 "cells": [
  {
   "cell_type": "code",
   "execution_count": 21,
   "id": "a08258fd",
   "metadata": {},
   "outputs": [],
   "source": [
    "import numpy as np\n",
    "import pandas as pd\n",
    "import seaborn as sns\n",
    "import matplotlib.pyplot as plt\n",
    "from sklearn.preprocessing import LabelEncoder\n",
    "import warnings\n",
    "warnings.filterwarnings('ignore')"
   ]
  },
  {
   "cell_type": "code",
   "execution_count": 22,
   "id": "c841ff38",
   "metadata": {},
   "outputs": [
    {
     "data": {
      "text/plain": [
       "(62313, 20)"
      ]
     },
     "execution_count": 22,
     "metadata": {},
     "output_type": "execute_result"
    }
   ],
   "source": [
    "df = pd.read_parquet('green_tripdata_2022-11.parquet')\n",
    "df.shape"
   ]
  },
  {
   "cell_type": "code",
   "execution_count": 23,
   "id": "7d2a7736",
   "metadata": {},
   "outputs": [
    {
     "data": {
      "text/html": [
       "<div>\n",
       "<style scoped>\n",
       "    .dataframe tbody tr th:only-of-type {\n",
       "        vertical-align: middle;\n",
       "    }\n",
       "\n",
       "    .dataframe tbody tr th {\n",
       "        vertical-align: top;\n",
       "    }\n",
       "\n",
       "    .dataframe thead th {\n",
       "        text-align: right;\n",
       "    }\n",
       "</style>\n",
       "<table border=\"1\" class=\"dataframe\">\n",
       "  <thead>\n",
       "    <tr style=\"text-align: right;\">\n",
       "      <th></th>\n",
       "      <th>VendorID</th>\n",
       "      <th>lpep_pickup_datetime</th>\n",
       "      <th>lpep_dropoff_datetime</th>\n",
       "      <th>store_and_fwd_flag</th>\n",
       "      <th>RatecodeID</th>\n",
       "      <th>PULocationID</th>\n",
       "      <th>DOLocationID</th>\n",
       "      <th>passenger_count</th>\n",
       "      <th>trip_distance</th>\n",
       "      <th>fare_amount</th>\n",
       "      <th>extra</th>\n",
       "      <th>mta_tax</th>\n",
       "      <th>tip_amount</th>\n",
       "      <th>tolls_amount</th>\n",
       "      <th>ehail_fee</th>\n",
       "      <th>improvement_surcharge</th>\n",
       "      <th>total_amount</th>\n",
       "      <th>payment_type</th>\n",
       "      <th>trip_type</th>\n",
       "      <th>congestion_surcharge</th>\n",
       "    </tr>\n",
       "  </thead>\n",
       "  <tbody>\n",
       "    <tr>\n",
       "      <th>0</th>\n",
       "      <td>2</td>\n",
       "      <td>2022-11-01 00:28:37</td>\n",
       "      <td>2022-11-01 00:31:56</td>\n",
       "      <td>N</td>\n",
       "      <td>1.0</td>\n",
       "      <td>223</td>\n",
       "      <td>223</td>\n",
       "      <td>1.0</td>\n",
       "      <td>0.71</td>\n",
       "      <td>4.5</td>\n",
       "      <td>0.5</td>\n",
       "      <td>0.5</td>\n",
       "      <td>1.45</td>\n",
       "      <td>0.0</td>\n",
       "      <td>None</td>\n",
       "      <td>0.3</td>\n",
       "      <td>7.25</td>\n",
       "      <td>1.0</td>\n",
       "      <td>1.0</td>\n",
       "      <td>0.00</td>\n",
       "    </tr>\n",
       "    <tr>\n",
       "      <th>1</th>\n",
       "      <td>2</td>\n",
       "      <td>2022-11-01 00:51:02</td>\n",
       "      <td>2022-11-01 01:12:50</td>\n",
       "      <td>N</td>\n",
       "      <td>5.0</td>\n",
       "      <td>80</td>\n",
       "      <td>90</td>\n",
       "      <td>2.0</td>\n",
       "      <td>6.86</td>\n",
       "      <td>45.0</td>\n",
       "      <td>0.0</td>\n",
       "      <td>0.0</td>\n",
       "      <td>9.61</td>\n",
       "      <td>0.0</td>\n",
       "      <td>None</td>\n",
       "      <td>0.3</td>\n",
       "      <td>57.66</td>\n",
       "      <td>1.0</td>\n",
       "      <td>2.0</td>\n",
       "      <td>2.75</td>\n",
       "    </tr>\n",
       "    <tr>\n",
       "      <th>2</th>\n",
       "      <td>2</td>\n",
       "      <td>2022-11-01 00:51:50</td>\n",
       "      <td>2022-11-01 00:55:38</td>\n",
       "      <td>N</td>\n",
       "      <td>1.0</td>\n",
       "      <td>244</td>\n",
       "      <td>244</td>\n",
       "      <td>2.0</td>\n",
       "      <td>0.58</td>\n",
       "      <td>4.5</td>\n",
       "      <td>0.5</td>\n",
       "      <td>0.5</td>\n",
       "      <td>0.00</td>\n",
       "      <td>0.0</td>\n",
       "      <td>None</td>\n",
       "      <td>0.3</td>\n",
       "      <td>5.80</td>\n",
       "      <td>2.0</td>\n",
       "      <td>1.0</td>\n",
       "      <td>0.00</td>\n",
       "    </tr>\n",
       "    <tr>\n",
       "      <th>3</th>\n",
       "      <td>2</td>\n",
       "      <td>2022-11-01 00:03:32</td>\n",
       "      <td>2022-11-01 00:12:28</td>\n",
       "      <td>N</td>\n",
       "      <td>1.0</td>\n",
       "      <td>116</td>\n",
       "      <td>74</td>\n",
       "      <td>1.0</td>\n",
       "      <td>2.74</td>\n",
       "      <td>10.5</td>\n",
       "      <td>0.5</td>\n",
       "      <td>0.5</td>\n",
       "      <td>0.00</td>\n",
       "      <td>0.0</td>\n",
       "      <td>None</td>\n",
       "      <td>0.3</td>\n",
       "      <td>11.80</td>\n",
       "      <td>2.0</td>\n",
       "      <td>1.0</td>\n",
       "      <td>0.00</td>\n",
       "    </tr>\n",
       "    <tr>\n",
       "      <th>4</th>\n",
       "      <td>2</td>\n",
       "      <td>2022-11-01 00:17:46</td>\n",
       "      <td>2022-11-01 00:22:03</td>\n",
       "      <td>N</td>\n",
       "      <td>1.0</td>\n",
       "      <td>134</td>\n",
       "      <td>134</td>\n",
       "      <td>1.0</td>\n",
       "      <td>0.91</td>\n",
       "      <td>5.0</td>\n",
       "      <td>0.5</td>\n",
       "      <td>0.5</td>\n",
       "      <td>1.58</td>\n",
       "      <td>0.0</td>\n",
       "      <td>None</td>\n",
       "      <td>0.3</td>\n",
       "      <td>7.88</td>\n",
       "      <td>1.0</td>\n",
       "      <td>1.0</td>\n",
       "      <td>0.00</td>\n",
       "    </tr>\n",
       "  </tbody>\n",
       "</table>\n",
       "</div>"
      ],
      "text/plain": [
       "   VendorID lpep_pickup_datetime lpep_dropoff_datetime store_and_fwd_flag  \\\n",
       "0         2  2022-11-01 00:28:37   2022-11-01 00:31:56                  N   \n",
       "1         2  2022-11-01 00:51:02   2022-11-01 01:12:50                  N   \n",
       "2         2  2022-11-01 00:51:50   2022-11-01 00:55:38                  N   \n",
       "3         2  2022-11-01 00:03:32   2022-11-01 00:12:28                  N   \n",
       "4         2  2022-11-01 00:17:46   2022-11-01 00:22:03                  N   \n",
       "\n",
       "   RatecodeID  PULocationID  DOLocationID  passenger_count  trip_distance  \\\n",
       "0         1.0           223           223              1.0           0.71   \n",
       "1         5.0            80            90              2.0           6.86   \n",
       "2         1.0           244           244              2.0           0.58   \n",
       "3         1.0           116            74              1.0           2.74   \n",
       "4         1.0           134           134              1.0           0.91   \n",
       "\n",
       "   fare_amount  extra  mta_tax  tip_amount  tolls_amount ehail_fee  \\\n",
       "0          4.5    0.5      0.5        1.45           0.0      None   \n",
       "1         45.0    0.0      0.0        9.61           0.0      None   \n",
       "2          4.5    0.5      0.5        0.00           0.0      None   \n",
       "3         10.5    0.5      0.5        0.00           0.0      None   \n",
       "4          5.0    0.5      0.5        1.58           0.0      None   \n",
       "\n",
       "   improvement_surcharge  total_amount  payment_type  trip_type  \\\n",
       "0                    0.3          7.25           1.0        1.0   \n",
       "1                    0.3         57.66           1.0        2.0   \n",
       "2                    0.3          5.80           2.0        1.0   \n",
       "3                    0.3         11.80           2.0        1.0   \n",
       "4                    0.3          7.88           1.0        1.0   \n",
       "\n",
       "   congestion_surcharge  \n",
       "0                  0.00  \n",
       "1                  2.75  \n",
       "2                  0.00  \n",
       "3                  0.00  \n",
       "4                  0.00  "
      ]
     },
     "execution_count": 23,
     "metadata": {},
     "output_type": "execute_result"
    }
   ],
   "source": [
    "df.head()"
   ]
  },
  {
   "cell_type": "markdown",
   "id": "fa3bafd3",
   "metadata": {},
   "source": [
    "### Calculate the trip duration in minutes"
   ]
  },
  {
   "cell_type": "code",
   "execution_count": null,
   "id": "3ba7da2f",
   "metadata": {},
   "outputs": [],
   "source": [
    "df.lpep_pickup_datetime = pd.to_datetime(df.lpep_pickup_datetime)\n",
    "df.lpep_dropoff_datetime = pd.to_datetime(df.lpep_dropoff_datetime)"
   ]
  },
  {
   "cell_type": "code",
   "execution_count": 28,
   "id": "25d9496f",
   "metadata": {},
   "outputs": [],
   "source": [
    "df['trip_duration'] = df.lpep_dropoff_datetime - df.lpep_pickup_datetime\n",
    "df.trip_duration = df.trip_duration.apply(lambda td: td.total_seconds()/ 60)"
   ]
  },
  {
   "cell_type": "code",
   "execution_count": 30,
   "id": "a8e5aea6",
   "metadata": {},
   "outputs": [
    {
     "data": {
      "text/html": [
       "<div>\n",
       "<style scoped>\n",
       "    .dataframe tbody tr th:only-of-type {\n",
       "        vertical-align: middle;\n",
       "    }\n",
       "\n",
       "    .dataframe tbody tr th {\n",
       "        vertical-align: top;\n",
       "    }\n",
       "\n",
       "    .dataframe thead th {\n",
       "        text-align: right;\n",
       "    }\n",
       "</style>\n",
       "<table border=\"1\" class=\"dataframe\">\n",
       "  <thead>\n",
       "    <tr style=\"text-align: right;\">\n",
       "      <th></th>\n",
       "      <th>VendorID</th>\n",
       "      <th>lpep_pickup_datetime</th>\n",
       "      <th>lpep_dropoff_datetime</th>\n",
       "      <th>store_and_fwd_flag</th>\n",
       "      <th>RatecodeID</th>\n",
       "      <th>PULocationID</th>\n",
       "      <th>DOLocationID</th>\n",
       "      <th>passenger_count</th>\n",
       "      <th>trip_distance</th>\n",
       "      <th>fare_amount</th>\n",
       "      <th>...</th>\n",
       "      <th>mta_tax</th>\n",
       "      <th>tip_amount</th>\n",
       "      <th>tolls_amount</th>\n",
       "      <th>ehail_fee</th>\n",
       "      <th>improvement_surcharge</th>\n",
       "      <th>total_amount</th>\n",
       "      <th>payment_type</th>\n",
       "      <th>trip_type</th>\n",
       "      <th>congestion_surcharge</th>\n",
       "      <th>trip_duration</th>\n",
       "    </tr>\n",
       "  </thead>\n",
       "  <tbody>\n",
       "    <tr>\n",
       "      <th>0</th>\n",
       "      <td>2</td>\n",
       "      <td>2022-11-01 00:28:37</td>\n",
       "      <td>2022-11-01 00:31:56</td>\n",
       "      <td>N</td>\n",
       "      <td>1.0</td>\n",
       "      <td>223</td>\n",
       "      <td>223</td>\n",
       "      <td>1.0</td>\n",
       "      <td>0.71</td>\n",
       "      <td>4.5</td>\n",
       "      <td>...</td>\n",
       "      <td>0.5</td>\n",
       "      <td>1.45</td>\n",
       "      <td>0.0</td>\n",
       "      <td>None</td>\n",
       "      <td>0.3</td>\n",
       "      <td>7.25</td>\n",
       "      <td>1.0</td>\n",
       "      <td>1.0</td>\n",
       "      <td>0.00</td>\n",
       "      <td>3.316667</td>\n",
       "    </tr>\n",
       "    <tr>\n",
       "      <th>1</th>\n",
       "      <td>2</td>\n",
       "      <td>2022-11-01 00:51:02</td>\n",
       "      <td>2022-11-01 01:12:50</td>\n",
       "      <td>N</td>\n",
       "      <td>5.0</td>\n",
       "      <td>80</td>\n",
       "      <td>90</td>\n",
       "      <td>2.0</td>\n",
       "      <td>6.86</td>\n",
       "      <td>45.0</td>\n",
       "      <td>...</td>\n",
       "      <td>0.0</td>\n",
       "      <td>9.61</td>\n",
       "      <td>0.0</td>\n",
       "      <td>None</td>\n",
       "      <td>0.3</td>\n",
       "      <td>57.66</td>\n",
       "      <td>1.0</td>\n",
       "      <td>2.0</td>\n",
       "      <td>2.75</td>\n",
       "      <td>21.800000</td>\n",
       "    </tr>\n",
       "    <tr>\n",
       "      <th>2</th>\n",
       "      <td>2</td>\n",
       "      <td>2022-11-01 00:51:50</td>\n",
       "      <td>2022-11-01 00:55:38</td>\n",
       "      <td>N</td>\n",
       "      <td>1.0</td>\n",
       "      <td>244</td>\n",
       "      <td>244</td>\n",
       "      <td>2.0</td>\n",
       "      <td>0.58</td>\n",
       "      <td>4.5</td>\n",
       "      <td>...</td>\n",
       "      <td>0.5</td>\n",
       "      <td>0.00</td>\n",
       "      <td>0.0</td>\n",
       "      <td>None</td>\n",
       "      <td>0.3</td>\n",
       "      <td>5.80</td>\n",
       "      <td>2.0</td>\n",
       "      <td>1.0</td>\n",
       "      <td>0.00</td>\n",
       "      <td>3.800000</td>\n",
       "    </tr>\n",
       "    <tr>\n",
       "      <th>3</th>\n",
       "      <td>2</td>\n",
       "      <td>2022-11-01 00:03:32</td>\n",
       "      <td>2022-11-01 00:12:28</td>\n",
       "      <td>N</td>\n",
       "      <td>1.0</td>\n",
       "      <td>116</td>\n",
       "      <td>74</td>\n",
       "      <td>1.0</td>\n",
       "      <td>2.74</td>\n",
       "      <td>10.5</td>\n",
       "      <td>...</td>\n",
       "      <td>0.5</td>\n",
       "      <td>0.00</td>\n",
       "      <td>0.0</td>\n",
       "      <td>None</td>\n",
       "      <td>0.3</td>\n",
       "      <td>11.80</td>\n",
       "      <td>2.0</td>\n",
       "      <td>1.0</td>\n",
       "      <td>0.00</td>\n",
       "      <td>8.933333</td>\n",
       "    </tr>\n",
       "    <tr>\n",
       "      <th>4</th>\n",
       "      <td>2</td>\n",
       "      <td>2022-11-01 00:17:46</td>\n",
       "      <td>2022-11-01 00:22:03</td>\n",
       "      <td>N</td>\n",
       "      <td>1.0</td>\n",
       "      <td>134</td>\n",
       "      <td>134</td>\n",
       "      <td>1.0</td>\n",
       "      <td>0.91</td>\n",
       "      <td>5.0</td>\n",
       "      <td>...</td>\n",
       "      <td>0.5</td>\n",
       "      <td>1.58</td>\n",
       "      <td>0.0</td>\n",
       "      <td>None</td>\n",
       "      <td>0.3</td>\n",
       "      <td>7.88</td>\n",
       "      <td>1.0</td>\n",
       "      <td>1.0</td>\n",
       "      <td>0.00</td>\n",
       "      <td>4.283333</td>\n",
       "    </tr>\n",
       "  </tbody>\n",
       "</table>\n",
       "<p>5 rows × 21 columns</p>\n",
       "</div>"
      ],
      "text/plain": [
       "   VendorID lpep_pickup_datetime lpep_dropoff_datetime store_and_fwd_flag  \\\n",
       "0         2  2022-11-01 00:28:37   2022-11-01 00:31:56                  N   \n",
       "1         2  2022-11-01 00:51:02   2022-11-01 01:12:50                  N   \n",
       "2         2  2022-11-01 00:51:50   2022-11-01 00:55:38                  N   \n",
       "3         2  2022-11-01 00:03:32   2022-11-01 00:12:28                  N   \n",
       "4         2  2022-11-01 00:17:46   2022-11-01 00:22:03                  N   \n",
       "\n",
       "   RatecodeID  PULocationID  DOLocationID  passenger_count  trip_distance  \\\n",
       "0         1.0           223           223              1.0           0.71   \n",
       "1         5.0            80            90              2.0           6.86   \n",
       "2         1.0           244           244              2.0           0.58   \n",
       "3         1.0           116            74              1.0           2.74   \n",
       "4         1.0           134           134              1.0           0.91   \n",
       "\n",
       "   fare_amount  ...  mta_tax  tip_amount  tolls_amount  ehail_fee  \\\n",
       "0          4.5  ...      0.5        1.45           0.0       None   \n",
       "1         45.0  ...      0.0        9.61           0.0       None   \n",
       "2          4.5  ...      0.5        0.00           0.0       None   \n",
       "3         10.5  ...      0.5        0.00           0.0       None   \n",
       "4          5.0  ...      0.5        1.58           0.0       None   \n",
       "\n",
       "  improvement_surcharge  total_amount  payment_type  trip_type  \\\n",
       "0                   0.3          7.25           1.0        1.0   \n",
       "1                   0.3         57.66           1.0        2.0   \n",
       "2                   0.3          5.80           2.0        1.0   \n",
       "3                   0.3         11.80           2.0        1.0   \n",
       "4                   0.3          7.88           1.0        1.0   \n",
       "\n",
       "   congestion_surcharge  trip_duration  \n",
       "0                  0.00       3.316667  \n",
       "1                  2.75      21.800000  \n",
       "2                  0.00       3.800000  \n",
       "3                  0.00       8.933333  \n",
       "4                  0.00       4.283333  \n",
       "\n",
       "[5 rows x 21 columns]"
      ]
     },
     "execution_count": 30,
     "metadata": {},
     "output_type": "execute_result"
    }
   ],
   "source": [
    "df.head()"
   ]
  },
  {
   "cell_type": "code",
   "execution_count": 31,
   "id": "df776b1e",
   "metadata": {},
   "outputs": [
    {
     "name": "stdout",
     "output_type": "stream",
     "text": [
      "VendorID :\n",
      " [2 1]\n",
      "2    55432\n",
      "1     6881\n",
      "Name: VendorID, dtype: int64\n",
      "\n",
      " **************************************** \n",
      "\n",
      "lpep_pickup_datetime :\n",
      " ['2022-11-01T00:28:37.000000000' '2022-11-01T00:51:02.000000000'\n",
      " '2022-11-01T00:51:50.000000000' ... '2022-11-30T23:27:00.000000000'\n",
      " '2022-11-30T23:29:00.000000000' '2022-11-30T23:05:00.000000000']\n",
      "2022-11-11 19:59:00    5\n",
      "2022-11-18 19:17:11    4\n",
      "2022-11-17 07:50:00    4\n",
      "2022-11-18 13:10:00    4\n",
      "2022-11-01 16:00:47    3\n",
      "                      ..\n",
      "2022-11-11 09:43:51    1\n",
      "2022-11-11 09:59:33    1\n",
      "2022-11-11 09:06:33    1\n",
      "2022-11-11 09:15:48    1\n",
      "2022-11-16 21:32:58    1\n",
      "Name: lpep_pickup_datetime, Length: 60547, dtype: int64\n",
      "\n",
      " **************************************** \n",
      "\n",
      "lpep_dropoff_datetime :\n",
      " ['2022-11-01T00:31:56.000000000' '2022-11-01T01:12:50.000000000'\n",
      " '2022-11-01T00:55:38.000000000' ... '2022-11-30T23:46:00.000000000'\n",
      " '2022-11-30T23:30:00.000000000' '2022-11-30T23:23:00.000000000']\n",
      "2022-11-11 18:55:00    6\n",
      "2022-11-13 00:00:00    5\n",
      "2022-11-03 00:00:00    4\n",
      "2022-11-26 00:00:00    4\n",
      "2022-11-07 14:23:00    4\n",
      "                      ..\n",
      "2022-11-11 09:31:04    1\n",
      "2022-11-11 09:26:42    1\n",
      "2022-11-11 09:28:30    1\n",
      "2022-11-11 09:31:33    1\n",
      "2022-11-30 23:23:00    1\n",
      "Name: lpep_dropoff_datetime, Length: 60526, dtype: int64\n",
      "\n",
      " **************************************** \n",
      "\n",
      "store_and_fwd_flag :\n",
      " ['N' 'Y' None]\n",
      "N    55916\n",
      "Y      276\n",
      "Name: store_and_fwd_flag, dtype: int64\n",
      "\n",
      " **************************************** \n",
      "\n",
      "RatecodeID :\n",
      " [ 1.  5.  4.  2.  3.  6. nan]\n",
      "1.0    52603\n",
      "5.0     3253\n",
      "2.0      236\n",
      "4.0       58\n",
      "3.0       41\n",
      "6.0        1\n",
      "Name: RatecodeID, dtype: int64\n",
      "\n",
      " **************************************** \n",
      "\n",
      "PULocationID :\n",
      " [223  80 244 116 134  75  95  56  66 130 129 135  70 102 139 243  43  74\n",
      " 226 173 171  82  97   7  93  92 255 127  37 157   1  36  91 260  47 192\n",
      " 166 264 256  73 189  41  21  33  42 216 215  61  65 106 265  35 191 152\n",
      " 210  24 242  25 232 236  52 122 250 168 220 259 247 167  72  76 194  98\n",
      " 145  55 263 196 193 228 174 207 153  77 197 126 241 169 183 212 213  49\n",
      " 159  18 254  83 253 120 181 248 146 227  53 165 136 175  60  22 123 138\n",
      "  16 178  69 131 149 198  14 179  15  96  94 182 132 108  85 147 150  17\n",
      " 121  40 112 235  90  79 188 258  10 205 177  62 202 222 119  51  28 208\n",
      " 225  71  81  32  67  89  44 185 160 219 195  20 124 117 257  26 155  39\n",
      " 140  29 217 200  34  57  78  63 151  11 170 133 262 180 240 154 203  54\n",
      "  86  68 190 252  87 218 137 234 142  38   9 128   3  46  45 233 231 206\n",
      " 101  27  23  64  31  58 238 209 229   6 221  19 184   8   4 100 148 187\n",
      "  88 245 239 141 261 107  13 163 164 237  59]\n",
      "74     12279\n",
      "75      7687\n",
      "41      4214\n",
      "166     4109\n",
      "95      2515\n",
      "       ...  \n",
      "209        1\n",
      "46         1\n",
      "58         1\n",
      "64         1\n",
      "59         1\n",
      "Name: PULocationID, Length: 227, dtype: int64\n",
      "\n",
      " **************************************** \n",
      "\n",
      "DOLocationID :\n",
      " [223  90 244  74 134 263 135  56 255  10 130 191  28 102  95  70 216 264\n",
      "  41  42  75 226 173  92  82 235 188 225  80 254 256  83  17 246  48  37\n",
      "  36 233 112 221   7 229  57 143 196  55 260 179  43 180  87 161 162 265\n",
      " 236 129 138 125 141  69  73 238 132 159 189  61 239 166 234 149 210 200\n",
      " 262 152 140 146 114 237 243 137  24  40 197 164  26 151 163 190  65 168\n",
      " 150 145 121  78 142  88 258 170  60 193  34 107 247 242 213 144   4 116\n",
      " 220 241 113  51 183 227 231   9  93 126  71  97 169 167 228  33  66 139\n",
      " 249  68 205 207  25  50  11  13  29 217 181 219 120 165 171  35 192 186\n",
      "  18 250  62   3 224 119 174 218 123 230  49 202 100 147  89 133 208  53\n",
      " 195 157   1 175 122  98  72  16  91  79 127  52 232 160  76 136 198  94\n",
      " 248 101 215  14  86  38  63 131 257  45 211 182  47 158  67 148  20 252\n",
      " 124  81  19 194 106  23 185 261  85  39  32  44  96  15   8  54  31 209\n",
      " 212 222 155 203 128 177  21  22  77 153 108  64 178 259 117 253 184 206\n",
      "  27 154 111   6 240  58  59 214 187 156 201  12]\n",
      "74     3216\n",
      "75     2893\n",
      "41     2459\n",
      "236    2268\n",
      "42     2224\n",
      "       ... \n",
      "27        1\n",
      "214       1\n",
      "187       1\n",
      "156       1\n",
      "201       1\n",
      "Name: DOLocationID, Length: 246, dtype: int64\n",
      "\n",
      " **************************************** \n",
      "\n",
      "passenger_count :\n",
      " [ 1.  2.  3.  5.  0.  4.  6.  8.  9.  7. nan]\n",
      "1.0    47579\n",
      "2.0     4993\n",
      "5.0     1270\n",
      "6.0     1013\n",
      "3.0      769\n",
      "0.0      296\n",
      "4.0      257\n",
      "9.0        7\n",
      "8.0        6\n",
      "7.0        2\n",
      "Name: passenger_count, dtype: int64\n",
      "\n",
      " **************************************** \n",
      "\n",
      "trip_distance :\n",
      " [7.1000000e-01 6.8600000e+00 5.8000000e-01 ... 1.1598007e+05 1.1830000e+01\n",
      " 2.3641010e+04]\n",
      "0.00        3318\n",
      "1.40         505\n",
      "1.30         414\n",
      "1.50         394\n",
      "1.20         381\n",
      "            ... \n",
      "21.04          1\n",
      "20.17          1\n",
      "28.52          1\n",
      "22.68          1\n",
      "23641.01       1\n",
      "Name: trip_distance, Length: 2121, dtype: int64\n",
      "\n",
      " **************************************** \n",
      "\n",
      "fare_amount :\n",
      " [ 4.5  45.   10.5  ... 36.56 20.39 30.67]\n",
      "10.00    2579\n",
      "8.00     2505\n",
      "7.00     2394\n",
      "9.00     2316\n",
      "8.50     2239\n",
      "         ... \n",
      "42.72       1\n",
      "32.06       1\n",
      "38.34       1\n",
      "20.94       1\n",
      "30.67       1\n",
      "Name: fare_amount, Length: 2842, dtype: int64\n",
      "\n",
      " **************************************** \n",
      "\n",
      "extra :\n",
      " [ 0.5   0.    2.75  3.75  1.    4.5  -1.    3.25 -0.5  -4.5 ]\n",
      " 0.00    40290\n",
      " 1.00    10676\n",
      " 0.50     9377\n",
      " 2.75     1272\n",
      " 3.75      382\n",
      " 3.25      222\n",
      " 4.50       37\n",
      "-1.00       37\n",
      "-0.50       19\n",
      "-4.50        1\n",
      "Name: extra, dtype: int64\n",
      "\n",
      " **************************************** \n",
      "\n",
      "mta_tax :\n",
      " [ 0.5  0.  -0.5]\n",
      " 0.5    52851\n",
      " 0.0     9318\n",
      "-0.5      144\n",
      "Name: mta_tax, dtype: int64\n",
      "\n",
      " **************************************** \n",
      "\n",
      "tip_amount :\n",
      " [ 1.45  9.61  0.   ... 11.67 15.07  7.24]\n",
      "0.00     24117\n",
      "1.00      2030\n",
      "2.00      2016\n",
      "3.00       893\n",
      "5.00       601\n",
      "         ...  \n",
      "16.46        1\n",
      "43.44        1\n",
      "8.04         1\n",
      "13.68        1\n",
      "7.24         1\n",
      "Name: tip_amount, Length: 1380, dtype: int64\n",
      "\n",
      " **************************************** \n",
      "\n",
      "tolls_amount :\n",
      " [ 0.    6.55 11.75 13.    3.    2.75  2.45 20.3  13.75 23.5  27.5   9.\n",
      "  8.   25.    3.9   6.   16.75  9.3  13.1  30.05 18.3  19.2  18.75  5.2\n",
      " 24.   24.85 21.5  19.65 19.75 73.75 20.   21.05]\n",
      "0.00     60302\n",
      "6.55      1804\n",
      "3.00        96\n",
      "13.75       28\n",
      "11.75       25\n",
      "2.45        14\n",
      "13.10        7\n",
      "20.30        4\n",
      "8.00         3\n",
      "18.30        3\n",
      "9.00         3\n",
      "27.50        2\n",
      "23.50        2\n",
      "20.00        2\n",
      "18.75        1\n",
      "19.75        1\n",
      "19.65        1\n",
      "21.50        1\n",
      "24.85        1\n",
      "73.75        1\n",
      "24.00        1\n",
      "5.20         1\n",
      "16.75        1\n",
      "19.20        1\n",
      "30.05        1\n",
      "9.30         1\n",
      "6.00         1\n",
      "3.90         1\n",
      "25.00        1\n",
      "2.75         1\n",
      "13.00        1\n",
      "21.05        1\n",
      "Name: tolls_amount, dtype: int64\n",
      "\n",
      " **************************************** \n",
      "\n",
      "ehail_fee :\n",
      " [None]\n",
      "Series([], Name: ehail_fee, dtype: int64)\n",
      "\n",
      " **************************************** \n",
      "\n",
      "improvement_surcharge :\n",
      " [ 0.3 -0.3  0. ]\n",
      " 0.3    61969\n",
      " 0.0      184\n",
      "-0.3      160\n",
      "Name: improvement_surcharge, dtype: int64\n",
      "\n",
      " **************************************** \n",
      "\n",
      "total_amount :\n",
      " [ 7.25 57.66  5.8  ... 11.58 44.23 26.44]\n",
      "10.30    1066\n",
      "7.80     1014\n",
      "8.30     1005\n",
      "8.80      977\n",
      "7.30      936\n",
      "         ... \n",
      "49.65       1\n",
      "61.03       1\n",
      "34.07       1\n",
      "0.75        1\n",
      "26.44       1\n",
      "Name: total_amount, Length: 4258, dtype: int64\n",
      "\n",
      " **************************************** \n",
      "\n",
      "payment_type :\n",
      " [ 1.  2.  3.  4.  5. nan]\n",
      "1.0    36999\n",
      "2.0    18707\n",
      "3.0      386\n",
      "4.0       99\n",
      "5.0        1\n",
      "Name: payment_type, dtype: int64\n",
      "\n",
      " **************************************** \n",
      "\n",
      "trip_type :\n",
      " [ 1.  2. nan]\n",
      "1.0    53255\n",
      "2.0     2937\n",
      "Name: trip_type, dtype: int64\n",
      "\n",
      " **************************************** \n",
      "\n",
      "congestion_surcharge :\n",
      " [ 0.    2.75  2.5  -2.75   nan]\n",
      " 0.00    40585\n",
      " 2.75    15601\n",
      " 2.50        4\n",
      "-2.75        2\n",
      "Name: congestion_surcharge, dtype: int64\n",
      "\n",
      " **************************************** \n",
      "\n",
      "trip_duration :\n",
      " [  3.31666667  21.8          3.8        ... 432.          48.9\n",
      "  83.18333333]\n",
      "0.050000      294\n",
      "0.033333      284\n",
      "9.000000      283\n",
      "12.000000     279\n",
      "10.000000     277\n",
      "             ... \n",
      "61.033333       1\n",
      "51.800000       1\n",
      "102.383333      1\n",
      "65.966667       1\n",
      "83.183333       1\n",
      "Name: trip_duration, Length: 4293, dtype: int64\n",
      "\n",
      " **************************************** \n",
      "\n"
     ]
    }
   ],
   "source": [
    "# let's check unique values\n",
    "columns=df.columns\n",
    "for col in columns:\n",
    "    print(col,':\\n',df[col].unique())\n",
    "    print(df[col].value_counts())\n",
    "    print('\\n',20*'**','\\n')"
   ]
  },
  {
   "cell_type": "code",
   "execution_count": 32,
   "id": "7a4adc2c",
   "metadata": {},
   "outputs": [
    {
     "name": "stdout",
     "output_type": "stream",
     "text": [
      "<class 'pandas.core.frame.DataFrame'>\n",
      "RangeIndex: 62313 entries, 0 to 62312\n",
      "Data columns (total 21 columns):\n",
      " #   Column                 Non-Null Count  Dtype         \n",
      "---  ------                 --------------  -----         \n",
      " 0   VendorID               62313 non-null  int64         \n",
      " 1   lpep_pickup_datetime   62313 non-null  datetime64[ns]\n",
      " 2   lpep_dropoff_datetime  62313 non-null  datetime64[ns]\n",
      " 3   store_and_fwd_flag     56192 non-null  object        \n",
      " 4   RatecodeID             56192 non-null  float64       \n",
      " 5   PULocationID           62313 non-null  int64         \n",
      " 6   DOLocationID           62313 non-null  int64         \n",
      " 7   passenger_count        56192 non-null  float64       \n",
      " 8   trip_distance          62313 non-null  float64       \n",
      " 9   fare_amount            62313 non-null  float64       \n",
      " 10  extra                  62313 non-null  float64       \n",
      " 11  mta_tax                62313 non-null  float64       \n",
      " 12  tip_amount             62313 non-null  float64       \n",
      " 13  tolls_amount           62313 non-null  float64       \n",
      " 14  ehail_fee              0 non-null      object        \n",
      " 15  improvement_surcharge  62313 non-null  float64       \n",
      " 16  total_amount           62313 non-null  float64       \n",
      " 17  payment_type           56192 non-null  float64       \n",
      " 18  trip_type              56192 non-null  float64       \n",
      " 19  congestion_surcharge   56192 non-null  float64       \n",
      " 20  trip_duration          62313 non-null  float64       \n",
      "dtypes: datetime64[ns](2), float64(14), int64(3), object(2)\n",
      "memory usage: 10.0+ MB\n"
     ]
    }
   ],
   "source": [
    "df.info()"
   ]
  },
  {
   "cell_type": "code",
   "execution_count": 33,
   "id": "695cf62e",
   "metadata": {},
   "outputs": [
    {
     "data": {
      "text/plain": [
       "Index(['VendorID', 'lpep_pickup_datetime', 'lpep_dropoff_datetime',\n",
       "       'store_and_fwd_flag', 'RatecodeID', 'PULocationID', 'DOLocationID',\n",
       "       'passenger_count', 'trip_distance', 'fare_amount', 'extra', 'mta_tax',\n",
       "       'tip_amount', 'tolls_amount', 'ehail_fee', 'improvement_surcharge',\n",
       "       'total_amount', 'payment_type', 'trip_type', 'congestion_surcharge',\n",
       "       'trip_duration'],\n",
       "      dtype='object')"
      ]
     },
     "execution_count": 33,
     "metadata": {},
     "output_type": "execute_result"
    }
   ],
   "source": [
    "df.columns"
   ]
  },
  {
   "cell_type": "code",
   "execution_count": 34,
   "id": "9b3077eb",
   "metadata": {},
   "outputs": [
    {
     "data": {
      "text/html": [
       "<div>\n",
       "<style scoped>\n",
       "    .dataframe tbody tr th:only-of-type {\n",
       "        vertical-align: middle;\n",
       "    }\n",
       "\n",
       "    .dataframe tbody tr th {\n",
       "        vertical-align: top;\n",
       "    }\n",
       "\n",
       "    .dataframe thead th {\n",
       "        text-align: right;\n",
       "    }\n",
       "</style>\n",
       "<table border=\"1\" class=\"dataframe\">\n",
       "  <thead>\n",
       "    <tr style=\"text-align: right;\">\n",
       "      <th></th>\n",
       "      <th>VendorID</th>\n",
       "      <th>RatecodeID</th>\n",
       "      <th>PULocationID</th>\n",
       "      <th>DOLocationID</th>\n",
       "      <th>passenger_count</th>\n",
       "      <th>trip_distance</th>\n",
       "      <th>fare_amount</th>\n",
       "      <th>extra</th>\n",
       "      <th>mta_tax</th>\n",
       "      <th>tip_amount</th>\n",
       "      <th>tolls_amount</th>\n",
       "      <th>improvement_surcharge</th>\n",
       "      <th>total_amount</th>\n",
       "      <th>payment_type</th>\n",
       "      <th>trip_type</th>\n",
       "      <th>congestion_surcharge</th>\n",
       "      <th>trip_duration</th>\n",
       "    </tr>\n",
       "  </thead>\n",
       "  <tbody>\n",
       "    <tr>\n",
       "      <th>count</th>\n",
       "      <td>62313.000000</td>\n",
       "      <td>56192.000000</td>\n",
       "      <td>62313.000000</td>\n",
       "      <td>62313.000000</td>\n",
       "      <td>56192.000000</td>\n",
       "      <td>62313.000000</td>\n",
       "      <td>62313.000000</td>\n",
       "      <td>62313.000000</td>\n",
       "      <td>62313.000000</td>\n",
       "      <td>62313.000000</td>\n",
       "      <td>62313.000000</td>\n",
       "      <td>62313.000000</td>\n",
       "      <td>62313.000000</td>\n",
       "      <td>56192.000000</td>\n",
       "      <td>56192.000000</td>\n",
       "      <td>56192.000000</td>\n",
       "      <td>62313.000000</td>\n",
       "    </tr>\n",
       "    <tr>\n",
       "      <th>mean</th>\n",
       "      <td>1.889574</td>\n",
       "      <td>1.240408</td>\n",
       "      <td>98.757659</td>\n",
       "      <td>139.787797</td>\n",
       "      <td>1.307179</td>\n",
       "      <td>83.301308</td>\n",
       "      <td>14.990903</td>\n",
       "      <td>0.339127</td>\n",
       "      <td>0.422921</td>\n",
       "      <td>2.014565</td>\n",
       "      <td>0.218133</td>\n",
       "      <td>0.297574</td>\n",
       "      <td>18.976286</td>\n",
       "      <td>1.352007</td>\n",
       "      <td>1.052267</td>\n",
       "      <td>0.763583</td>\n",
       "      <td>20.966591</td>\n",
       "    </tr>\n",
       "    <tr>\n",
       "      <th>std</th>\n",
       "      <td>0.313423</td>\n",
       "      <td>0.940917</td>\n",
       "      <td>62.278566</td>\n",
       "      <td>76.824984</td>\n",
       "      <td>0.960456</td>\n",
       "      <td>3374.500924</td>\n",
       "      <td>18.093849</td>\n",
       "      <td>0.620629</td>\n",
       "      <td>0.183723</td>\n",
       "      <td>2.766108</td>\n",
       "      <td>1.285773</td>\n",
       "      <td>0.034413</td>\n",
       "      <td>19.341514</td>\n",
       "      <td>0.502619</td>\n",
       "      <td>0.222567</td>\n",
       "      <td>1.231793</td>\n",
       "      <td>81.733241</td>\n",
       "    </tr>\n",
       "    <tr>\n",
       "      <th>min</th>\n",
       "      <td>1.000000</td>\n",
       "      <td>1.000000</td>\n",
       "      <td>1.000000</td>\n",
       "      <td>1.000000</td>\n",
       "      <td>0.000000</td>\n",
       "      <td>0.000000</td>\n",
       "      <td>-100.000000</td>\n",
       "      <td>-4.500000</td>\n",
       "      <td>-0.500000</td>\n",
       "      <td>-1.160000</td>\n",
       "      <td>0.000000</td>\n",
       "      <td>-0.300000</td>\n",
       "      <td>-100.300000</td>\n",
       "      <td>1.000000</td>\n",
       "      <td>1.000000</td>\n",
       "      <td>-2.750000</td>\n",
       "      <td>-54.016667</td>\n",
       "    </tr>\n",
       "    <tr>\n",
       "      <th>25%</th>\n",
       "      <td>2.000000</td>\n",
       "      <td>1.000000</td>\n",
       "      <td>66.000000</td>\n",
       "      <td>74.000000</td>\n",
       "      <td>1.000000</td>\n",
       "      <td>1.180000</td>\n",
       "      <td>7.500000</td>\n",
       "      <td>0.000000</td>\n",
       "      <td>0.500000</td>\n",
       "      <td>0.000000</td>\n",
       "      <td>0.000000</td>\n",
       "      <td>0.300000</td>\n",
       "      <td>10.300000</td>\n",
       "      <td>1.000000</td>\n",
       "      <td>1.000000</td>\n",
       "      <td>0.000000</td>\n",
       "      <td>7.716667</td>\n",
       "    </tr>\n",
       "    <tr>\n",
       "      <th>50%</th>\n",
       "      <td>2.000000</td>\n",
       "      <td>1.000000</td>\n",
       "      <td>75.000000</td>\n",
       "      <td>138.000000</td>\n",
       "      <td>1.000000</td>\n",
       "      <td>2.010000</td>\n",
       "      <td>11.000000</td>\n",
       "      <td>0.000000</td>\n",
       "      <td>0.500000</td>\n",
       "      <td>1.560000</td>\n",
       "      <td>0.000000</td>\n",
       "      <td>0.300000</td>\n",
       "      <td>14.760000</td>\n",
       "      <td>1.000000</td>\n",
       "      <td>1.000000</td>\n",
       "      <td>0.000000</td>\n",
       "      <td>12.316667</td>\n",
       "    </tr>\n",
       "    <tr>\n",
       "      <th>75%</th>\n",
       "      <td>2.000000</td>\n",
       "      <td>1.000000</td>\n",
       "      <td>130.000000</td>\n",
       "      <td>223.000000</td>\n",
       "      <td>1.000000</td>\n",
       "      <td>3.650000</td>\n",
       "      <td>17.500000</td>\n",
       "      <td>0.500000</td>\n",
       "      <td>0.500000</td>\n",
       "      <td>3.000000</td>\n",
       "      <td>0.000000</td>\n",
       "      <td>0.300000</td>\n",
       "      <td>22.110000</td>\n",
       "      <td>2.000000</td>\n",
       "      <td>1.000000</td>\n",
       "      <td>2.750000</td>\n",
       "      <td>19.666667</td>\n",
       "    </tr>\n",
       "    <tr>\n",
       "      <th>max</th>\n",
       "      <td>2.000000</td>\n",
       "      <td>6.000000</td>\n",
       "      <td>265.000000</td>\n",
       "      <td>265.000000</td>\n",
       "      <td>9.000000</td>\n",
       "      <td>241021.090000</td>\n",
       "      <td>2020.200000</td>\n",
       "      <td>4.500000</td>\n",
       "      <td>0.500000</td>\n",
       "      <td>110.880000</td>\n",
       "      <td>73.750000</td>\n",
       "      <td>0.300000</td>\n",
       "      <td>2021.000000</td>\n",
       "      <td>5.000000</td>\n",
       "      <td>2.000000</td>\n",
       "      <td>2.750000</td>\n",
       "      <td>1439.816667</td>\n",
       "    </tr>\n",
       "  </tbody>\n",
       "</table>\n",
       "</div>"
      ],
      "text/plain": [
       "           VendorID    RatecodeID  PULocationID  DOLocationID  \\\n",
       "count  62313.000000  56192.000000  62313.000000  62313.000000   \n",
       "mean       1.889574      1.240408     98.757659    139.787797   \n",
       "std        0.313423      0.940917     62.278566     76.824984   \n",
       "min        1.000000      1.000000      1.000000      1.000000   \n",
       "25%        2.000000      1.000000     66.000000     74.000000   \n",
       "50%        2.000000      1.000000     75.000000    138.000000   \n",
       "75%        2.000000      1.000000    130.000000    223.000000   \n",
       "max        2.000000      6.000000    265.000000    265.000000   \n",
       "\n",
       "       passenger_count  trip_distance   fare_amount         extra  \\\n",
       "count     56192.000000   62313.000000  62313.000000  62313.000000   \n",
       "mean          1.307179      83.301308     14.990903      0.339127   \n",
       "std           0.960456    3374.500924     18.093849      0.620629   \n",
       "min           0.000000       0.000000   -100.000000     -4.500000   \n",
       "25%           1.000000       1.180000      7.500000      0.000000   \n",
       "50%           1.000000       2.010000     11.000000      0.000000   \n",
       "75%           1.000000       3.650000     17.500000      0.500000   \n",
       "max           9.000000  241021.090000   2020.200000      4.500000   \n",
       "\n",
       "            mta_tax    tip_amount  tolls_amount  improvement_surcharge  \\\n",
       "count  62313.000000  62313.000000  62313.000000           62313.000000   \n",
       "mean       0.422921      2.014565      0.218133               0.297574   \n",
       "std        0.183723      2.766108      1.285773               0.034413   \n",
       "min       -0.500000     -1.160000      0.000000              -0.300000   \n",
       "25%        0.500000      0.000000      0.000000               0.300000   \n",
       "50%        0.500000      1.560000      0.000000               0.300000   \n",
       "75%        0.500000      3.000000      0.000000               0.300000   \n",
       "max        0.500000    110.880000     73.750000               0.300000   \n",
       "\n",
       "       total_amount  payment_type     trip_type  congestion_surcharge  \\\n",
       "count  62313.000000  56192.000000  56192.000000          56192.000000   \n",
       "mean      18.976286      1.352007      1.052267              0.763583   \n",
       "std       19.341514      0.502619      0.222567              1.231793   \n",
       "min     -100.300000      1.000000      1.000000             -2.750000   \n",
       "25%       10.300000      1.000000      1.000000              0.000000   \n",
       "50%       14.760000      1.000000      1.000000              0.000000   \n",
       "75%       22.110000      2.000000      1.000000              2.750000   \n",
       "max     2021.000000      5.000000      2.000000              2.750000   \n",
       "\n",
       "       trip_duration  \n",
       "count   62313.000000  \n",
       "mean       20.966591  \n",
       "std        81.733241  \n",
       "min       -54.016667  \n",
       "25%         7.716667  \n",
       "50%        12.316667  \n",
       "75%        19.666667  \n",
       "max      1439.816667  "
      ]
     },
     "execution_count": 34,
     "metadata": {},
     "output_type": "execute_result"
    }
   ],
   "source": [
    "df.describe()"
   ]
  },
  {
   "cell_type": "code",
   "execution_count": 35,
   "id": "cbd85c8d",
   "metadata": {},
   "outputs": [
    {
     "data": {
      "text/plain": [
       "array([[<AxesSubplot:title={'center':'VendorID'}>,\n",
       "        <AxesSubplot:title={'center':'lpep_pickup_datetime'}>,\n",
       "        <AxesSubplot:title={'center':'lpep_dropoff_datetime'}>,\n",
       "        <AxesSubplot:title={'center':'RatecodeID'}>],\n",
       "       [<AxesSubplot:title={'center':'PULocationID'}>,\n",
       "        <AxesSubplot:title={'center':'DOLocationID'}>,\n",
       "        <AxesSubplot:title={'center':'passenger_count'}>,\n",
       "        <AxesSubplot:title={'center':'trip_distance'}>],\n",
       "       [<AxesSubplot:title={'center':'fare_amount'}>,\n",
       "        <AxesSubplot:title={'center':'extra'}>,\n",
       "        <AxesSubplot:title={'center':'mta_tax'}>,\n",
       "        <AxesSubplot:title={'center':'tip_amount'}>],\n",
       "       [<AxesSubplot:title={'center':'tolls_amount'}>,\n",
       "        <AxesSubplot:title={'center':'improvement_surcharge'}>,\n",
       "        <AxesSubplot:title={'center':'total_amount'}>,\n",
       "        <AxesSubplot:title={'center':'payment_type'}>],\n",
       "       [<AxesSubplot:title={'center':'trip_type'}>,\n",
       "        <AxesSubplot:title={'center':'congestion_surcharge'}>,\n",
       "        <AxesSubplot:title={'center':'trip_duration'}>, <AxesSubplot:>]],\n",
       "      dtype=object)"
      ]
     },
     "execution_count": 35,
     "metadata": {},
     "output_type": "execute_result"
    },
    {
     "data": {
      "image/png": "[encoded data removed]",
      "text/plain": [
       "<Figure size 1800x1440 with 20 Axes>"
      ]
     },
     "metadata": {},
     "output_type": "display_data"
    }
   ],
   "source": [
    "plt.style.use(\"seaborn\")\n",
    "df.hist(figsize=(25,20), bins=15)"
   ]
  },
  {
   "cell_type": "code",
   "execution_count": 38,
   "id": "102a97c1",
   "metadata": {},
   "outputs": [
    {
     "data": {
      "text/plain": [
       "array([2, 1], dtype=int64)"
      ]
     },
     "execution_count": 38,
     "metadata": {},
     "output_type": "execute_result"
    }
   ],
   "source": [
    "df['VendorID'].unique()"
   ]
  },
  {
   "cell_type": "code",
   "execution_count": 39,
   "id": "7840820a",
   "metadata": {},
   "outputs": [
    {
     "data": {
      "text/plain": [
       "2    55432\n",
       "1     6881\n",
       "Name: VendorID, dtype: int64"
      ]
     },
     "execution_count": 39,
     "metadata": {},
     "output_type": "execute_result"
    }
   ],
   "source": [
    "df['VendorID'].value_counts()"
   ]
  },
  {
   "cell_type": "code",
   "execution_count": 40,
   "id": "076e7849",
   "metadata": {},
   "outputs": [
    {
     "data": {
      "text/plain": [
       "<AxesSubplot:xlabel='VendorID', ylabel='count'>"
      ]
     },
     "execution_count": 40,
     "metadata": {},
     "output_type": "execute_result"
    },
    {
     "data": {
      "image/png": "[encoded data removed]",
      "text/plain": [
       "<Figure size 576x396 with 1 Axes>"
      ]
     },
     "metadata": {},
     "output_type": "display_data"
    }
   ],
   "source": [
    "sns.countplot(x=\"VendorID\", data=df)"
   ]
  },
  {
   "cell_type": "code",
   "execution_count": 41,
   "id": "29838af8",
   "metadata": {},
   "outputs": [
    {
     "data": {
      "text/plain": [
       "<AxesSubplot:ylabel='VendorID'>"
      ]
     },
     "execution_count": 41,
     "metadata": {},
     "output_type": "execute_result"
    },
    {
     "data": {
      "image/png": "[encoded data removed]",
      "text/plain": [
       "<Figure size 576x396 with 1 Axes>"
      ]
     },
     "metadata": {},
     "output_type": "display_data"
    }
   ],
   "source": [
    "df['VendorID'].value_counts().plot(kind='pie',autopct='%1.1f%%')"
   ]
  },
  {
   "cell_type": "code",
   "execution_count": 42,
   "id": "7348f58e",
   "metadata": {},
   "outputs": [
    {
     "data": {
      "text/plain": [
       "array([ 1.,  2., nan])"
      ]
     },
     "execution_count": 42,
     "metadata": {},
     "output_type": "execute_result"
    }
   ],
   "source": [
    "df['trip_type'].unique()"
   ]
  },
  {
   "cell_type": "code",
   "execution_count": 43,
   "id": "5e253b98",
   "metadata": {},
   "outputs": [
    {
     "data": {
      "text/plain": [
       "1.0    53255\n",
       "2.0     2937\n",
       "Name: trip_type, dtype: int64"
      ]
     },
     "execution_count": 43,
     "metadata": {},
     "output_type": "execute_result"
    }
   ],
   "source": [
    "df['trip_type'].value_counts()"
   ]
  },
  {
   "cell_type": "code",
   "execution_count": 44,
   "id": "0404c6a8",
   "metadata": {},
   "outputs": [
    {
     "data": {
      "text/plain": [
       "<AxesSubplot:xlabel='trip_type', ylabel='count'>"
      ]
     },
     "execution_count": 44,
     "metadata": {},
     "output_type": "execute_result"
    },
    {
     "data": {
      "image/png": "[encoded data removed]",
      "text/plain": [
       "<Figure size 576x396 with 1 Axes>"
      ]
     },
     "metadata": {},
     "output_type": "display_data"
    }
   ],
   "source": [
    "sns.countplot(x=\"trip_type\", data=df)"
   ]
  },
  {
   "cell_type": "code",
   "execution_count": 45,
   "id": "0e28d655",
   "metadata": {},
   "outputs": [
    {
     "data": {
      "text/plain": [
       "<AxesSubplot:ylabel='trip_type'>"
      ]
     },
     "execution_count": 45,
     "metadata": {},
     "output_type": "execute_result"
    },
    {
     "data": {
      "image/png": "[encoded data removed]",
      "text/plain": [
       "<Figure size 576x396 with 1 Axes>"
      ]
     },
     "metadata": {},
     "output_type": "display_data"
    }
   ],
   "source": [
    "df['trip_type'].value_counts().plot(kind='pie',autopct='%1.1f%%')"
   ]
  },
  {
   "cell_type": "code",
   "execution_count": 46,
   "id": "693cd6a4",
   "metadata": {},
   "outputs": [
    {
     "data": {
      "text/plain": [
       "array([ 0.3, -0.3,  0. ])"
      ]
     },
     "execution_count": 46,
     "metadata": {},
     "output_type": "execute_result"
    }
   ],
   "source": [
    "df['improvement_surcharge'].unique()"
   ]
  },
  {
   "cell_type": "code",
   "execution_count": 47,
   "id": "ab01bc1c",
   "metadata": {},
   "outputs": [
    {
     "data": {
      "text/plain": [
       " 0.3    61969\n",
       " 0.0      184\n",
       "-0.3      160\n",
       "Name: improvement_surcharge, dtype: int64"
      ]
     },
     "execution_count": 47,
     "metadata": {},
     "output_type": "execute_result"
    }
   ],
   "source": [
    "df['improvement_surcharge'].value_counts()"
   ]
  },
  {
   "cell_type": "code",
   "execution_count": 48,
   "id": "1e1df144",
   "metadata": {},
   "outputs": [
    {
     "data": {
      "text/plain": [
       "<AxesSubplot:xlabel='improvement_surcharge', ylabel='count'>"
      ]
     },
     "execution_count": 48,
     "metadata": {},
     "output_type": "execute_result"
    },
    {
     "data": {
      "image/png": "[encoded data removed]",
      "text/plain": [
       "<Figure size 576x396 with 1 Axes>"
      ]
     },
     "metadata": {},
     "output_type": "display_data"
    }
   ],
   "source": [
    "sns.countplot(x='improvement_surcharge', data=df)"
   ]
  },
  {
   "cell_type": "code",
   "execution_count": 49,
   "id": "5ceb127e",
   "metadata": {},
   "outputs": [
    {
     "data": {
      "text/plain": [
       "<AxesSubplot:ylabel='improvement_surcharge'>"
      ]
     },
     "execution_count": 49,
     "metadata": {},
     "output_type": "execute_result"
    },
    {
     "data": {
      "image/png": "[encoded data removed]",
      "text/plain": [
       "<Figure size 576x396 with 1 Axes>"
      ]
     },
     "metadata": {},
     "output_type": "display_data"
    }
   ],
   "source": [
    "df['improvement_surcharge'].value_counts().plot(kind='pie',autopct='%1.1f%%')"
   ]
  },
  {
   "cell_type": "code",
   "execution_count": 50,
   "id": "226faa82",
   "metadata": {},
   "outputs": [
    {
     "data": {
      "text/plain": [
       "array([ 1.,  2.,  3.,  4.,  5., nan])"
      ]
     },
     "execution_count": 50,
     "metadata": {},
     "output_type": "execute_result"
    }
   ],
   "source": [
    "df['payment_type'].unique()"
   ]
  },
  {
   "cell_type": "code",
   "execution_count": 51,
   "id": "fcedc54b",
   "metadata": {},
   "outputs": [
    {
     "data": {
      "text/plain": [
       "1.0    36999\n",
       "2.0    18707\n",
       "3.0      386\n",
       "4.0       99\n",
       "5.0        1\n",
       "Name: payment_type, dtype: int64"
      ]
     },
     "execution_count": 51,
     "metadata": {},
     "output_type": "execute_result"
    }
   ],
   "source": [
    "df['payment_type'].value_counts()"
   ]
  },
  {
   "cell_type": "code",
   "execution_count": 52,
   "id": "664812b5",
   "metadata": {},
   "outputs": [
    {
     "data": {
      "text/plain": [
       "<AxesSubplot:xlabel='payment_type', ylabel='count'>"
      ]
     },
     "execution_count": 52,
     "metadata": {},
     "output_type": "execute_result"
    },
    {
     "data": {
      "image/png": "[encoded data removed]",
      "text/plain": [
       "<Figure size 576x396 with 1 Axes>"
      ]
     },
     "metadata": {},
     "output_type": "display_data"
    }
   ],
   "source": [
    "sns.countplot(x='payment_type', data=df)"
   ]
  },
  {
   "cell_type": "code",
   "execution_count": 53,
   "id": "626bcd31",
   "metadata": {},
   "outputs": [
    {
     "data": {
      "text/plain": [
       "<AxesSubplot:ylabel='payment_type'>"
      ]
     },
     "execution_count": 53,
     "metadata": {},
     "output_type": "execute_result"
    },
    {
     "data": {
      "image/png": "[encoded data removed]",
      "text/plain": [
       "<Figure size 576x396 with 1 Axes>"
      ]
     },
     "metadata": {},
     "output_type": "display_data"
    }
   ],
   "source": [
    "df['payment_type'].value_counts().plot(kind='pie',autopct='%1.1f%%')"
   ]
  },
  {
   "cell_type": "code",
   "execution_count": 54,
   "id": "ea4870e1",
   "metadata": {},
   "outputs": [
    {
     "data": {
      "text/plain": [
       "array(['N', 'Y', None], dtype=object)"
      ]
     },
     "execution_count": 54,
     "metadata": {},
     "output_type": "execute_result"
    }
   ],
   "source": [
    "df['store_and_fwd_flag'].unique()"
   ]
  },
  {
   "cell_type": "code",
   "execution_count": 56,
   "id": "eee38dc8",
   "metadata": {},
   "outputs": [
    {
     "data": {
      "text/plain": [
       "N    55916\n",
       "Y      276\n",
       "Name: store_and_fwd_flag, dtype: int64"
      ]
     },
     "execution_count": 56,
     "metadata": {},
     "output_type": "execute_result"
    }
   ],
   "source": [
    "df['store_and_fwd_flag'].value_counts()"
   ]
  },
  {
   "cell_type": "code",
   "execution_count": 57,
   "id": "45ccfbcf",
   "metadata": {},
   "outputs": [
    {
     "data": {
      "text/plain": [
       "<AxesSubplot:xlabel='store_and_fwd_flag', ylabel='count'>"
      ]
     },
     "execution_count": 57,
     "metadata": {},
     "output_type": "execute_result"
    },
    {
     "data": {
      "image/png": "[encoded data removed]",
      "text/plain": [
       "<Figure size 576x396 with 1 Axes>"
      ]
     },
     "metadata": {},
     "output_type": "display_data"
    }
   ],
   "source": [
    "sns.countplot(x=\"store_and_fwd_flag\", data=df)"
   ]
  },
  {
   "cell_type": "code",
   "execution_count": 58,
   "id": "9ccb7b30",
   "metadata": {},
   "outputs": [
    {
     "data": {
      "text/plain": [
       "<AxesSubplot:ylabel='store_and_fwd_flag'>"
      ]
     },
     "execution_count": 58,
     "metadata": {},
     "output_type": "execute_result"
    },
    {
     "data": {
      "image/png": "[encoded data removed]",
      "text/plain": [
       "<Figure size 576x396 with 1 Axes>"
      ]
     },
     "metadata": {},
     "output_type": "display_data"
    }
   ],
   "source": [
    "df['store_and_fwd_flag'].value_counts().plot(kind='pie',autopct='%1.1f%%')"
   ]
  },
  {
   "cell_type": "code",
   "execution_count": 59,
   "id": "1bf51f65",
   "metadata": {},
   "outputs": [
    {
     "data": {
      "text/plain": [
       "array([ 0.5,  0. , -0.5])"
      ]
     },
     "execution_count": 59,
     "metadata": {},
     "output_type": "execute_result"
    }
   ],
   "source": [
    "df['mta_tax'].unique()"
   ]
  },
  {
   "cell_type": "code",
   "execution_count": 60,
   "id": "b6184320",
   "metadata": {},
   "outputs": [
    {
     "data": {
      "text/plain": [
       " 0.5    52851\n",
       " 0.0     9318\n",
       "-0.5      144\n",
       "Name: mta_tax, dtype: int64"
      ]
     },
     "execution_count": 60,
     "metadata": {},
     "output_type": "execute_result"
    }
   ],
   "source": [
    "df['mta_tax'].value_counts()"
   ]
  },
  {
   "cell_type": "code",
   "execution_count": 61,
   "id": "7ec51a6d",
   "metadata": {},
   "outputs": [
    {
     "data": {
      "text/plain": [
       "<AxesSubplot:xlabel='mta_tax', ylabel='count'>"
      ]
     },
     "execution_count": 61,
     "metadata": {},
     "output_type": "execute_result"
    },
    {
     "data": {
      "image/png": "[encoded data removed]",
      "text/plain": [
       "<Figure size 576x396 with 1 Axes>"
      ]
     },
     "metadata": {},
     "output_type": "display_data"
    }
   ],
   "source": [
    "sns.countplot(x=\"mta_tax\", data=df)"
   ]
  },
  {
   "cell_type": "code",
   "execution_count": 62,
   "id": "8a00e102",
   "metadata": {},
   "outputs": [
    {
     "data": {
      "text/plain": [
       "<AxesSubplot:ylabel='mta_tax'>"
      ]
     },
     "execution_count": 62,
     "metadata": {},
     "output_type": "execute_result"
    },
    {
     "data": {
      "image/png": "[encoded data removed]",
      "text/plain": [
       "<Figure size 576x396 with 1 Axes>"
      ]
     },
     "metadata": {},
     "output_type": "display_data"
    }
   ],
   "source": [
    "df['mta_tax'].value_counts().plot(kind='pie',autopct='%1.1f%%')"
   ]
  },
  {
   "cell_type": "code",
   "execution_count": 63,
   "id": "5edb719e",
   "metadata": {},
   "outputs": [
    {
     "data": {
      "text/html": [
       "<div>\n",
       "<style scoped>\n",
       "    .dataframe tbody tr th:only-of-type {\n",
       "        vertical-align: middle;\n",
       "    }\n",
       "\n",
       "    .dataframe tbody tr th {\n",
       "        vertical-align: top;\n",
       "    }\n",
       "\n",
       "    .dataframe thead th {\n",
       "        text-align: right;\n",
       "    }\n",
       "</style>\n",
       "<table border=\"1\" class=\"dataframe\">\n",
       "  <thead>\n",
       "    <tr style=\"text-align: right;\">\n",
       "      <th></th>\n",
       "      <th>VendorID</th>\n",
       "      <th>lpep_pickup_datetime</th>\n",
       "      <th>lpep_dropoff_datetime</th>\n",
       "      <th>store_and_fwd_flag</th>\n",
       "      <th>RatecodeID</th>\n",
       "      <th>PULocationID</th>\n",
       "      <th>DOLocationID</th>\n",
       "      <th>passenger_count</th>\n",
       "      <th>trip_distance</th>\n",
       "      <th>fare_amount</th>\n",
       "      <th>...</th>\n",
       "      <th>mta_tax</th>\n",
       "      <th>tip_amount</th>\n",
       "      <th>tolls_amount</th>\n",
       "      <th>ehail_fee</th>\n",
       "      <th>improvement_surcharge</th>\n",
       "      <th>total_amount</th>\n",
       "      <th>payment_type</th>\n",
       "      <th>trip_type</th>\n",
       "      <th>congestion_surcharge</th>\n",
       "      <th>trip_duration</th>\n",
       "    </tr>\n",
       "  </thead>\n",
       "  <tbody>\n",
       "    <tr>\n",
       "      <th>0</th>\n",
       "      <td>2</td>\n",
       "      <td>2022-11-01 00:28:37</td>\n",
       "      <td>2022-11-01 00:31:56</td>\n",
       "      <td>N</td>\n",
       "      <td>1.0</td>\n",
       "      <td>223</td>\n",
       "      <td>223</td>\n",
       "      <td>1.0</td>\n",
       "      <td>0.71</td>\n",
       "      <td>4.5</td>\n",
       "      <td>...</td>\n",
       "      <td>0.5</td>\n",
       "      <td>1.45</td>\n",
       "      <td>0.0</td>\n",
       "      <td>None</td>\n",
       "      <td>0.3</td>\n",
       "      <td>7.25</td>\n",
       "      <td>1.0</td>\n",
       "      <td>1.0</td>\n",
       "      <td>0.00</td>\n",
       "      <td>3.316667</td>\n",
       "    </tr>\n",
       "    <tr>\n",
       "      <th>1</th>\n",
       "      <td>2</td>\n",
       "      <td>2022-11-01 00:51:02</td>\n",
       "      <td>2022-11-01 01:12:50</td>\n",
       "      <td>N</td>\n",
       "      <td>5.0</td>\n",
       "      <td>80</td>\n",
       "      <td>90</td>\n",
       "      <td>2.0</td>\n",
       "      <td>6.86</td>\n",
       "      <td>45.0</td>\n",
       "      <td>...</td>\n",
       "      <td>0.0</td>\n",
       "      <td>9.61</td>\n",
       "      <td>0.0</td>\n",
       "      <td>None</td>\n",
       "      <td>0.3</td>\n",
       "      <td>57.66</td>\n",
       "      <td>1.0</td>\n",
       "      <td>2.0</td>\n",
       "      <td>2.75</td>\n",
       "      <td>21.800000</td>\n",
       "    </tr>\n",
       "    <tr>\n",
       "      <th>2</th>\n",
       "      <td>2</td>\n",
       "      <td>2022-11-01 00:51:50</td>\n",
       "      <td>2022-11-01 00:55:38</td>\n",
       "      <td>N</td>\n",
       "      <td>1.0</td>\n",
       "      <td>244</td>\n",
       "      <td>244</td>\n",
       "      <td>2.0</td>\n",
       "      <td>0.58</td>\n",
       "      <td>4.5</td>\n",
       "      <td>...</td>\n",
       "      <td>0.5</td>\n",
       "      <td>0.00</td>\n",
       "      <td>0.0</td>\n",
       "      <td>None</td>\n",
       "      <td>0.3</td>\n",
       "      <td>5.80</td>\n",
       "      <td>2.0</td>\n",
       "      <td>1.0</td>\n",
       "      <td>0.00</td>\n",
       "      <td>3.800000</td>\n",
       "    </tr>\n",
       "    <tr>\n",
       "      <th>3</th>\n",
       "      <td>2</td>\n",
       "      <td>2022-11-01 00:03:32</td>\n",
       "      <td>2022-11-01 00:12:28</td>\n",
       "      <td>N</td>\n",
       "      <td>1.0</td>\n",
       "      <td>116</td>\n",
       "      <td>74</td>\n",
       "      <td>1.0</td>\n",
       "      <td>2.74</td>\n",
       "      <td>10.5</td>\n",
       "      <td>...</td>\n",
       "      <td>0.5</td>\n",
       "      <td>0.00</td>\n",
       "      <td>0.0</td>\n",
       "      <td>None</td>\n",
       "      <td>0.3</td>\n",
       "      <td>11.80</td>\n",
       "      <td>2.0</td>\n",
       "      <td>1.0</td>\n",
       "      <td>0.00</td>\n",
       "      <td>8.933333</td>\n",
       "    </tr>\n",
       "    <tr>\n",
       "      <th>4</th>\n",
       "      <td>2</td>\n",
       "      <td>2022-11-01 00:17:46</td>\n",
       "      <td>2022-11-01 00:22:03</td>\n",
       "      <td>N</td>\n",
       "      <td>1.0</td>\n",
       "      <td>134</td>\n",
       "      <td>134</td>\n",
       "      <td>1.0</td>\n",
       "      <td>0.91</td>\n",
       "      <td>5.0</td>\n",
       "      <td>...</td>\n",
       "      <td>0.5</td>\n",
       "      <td>1.58</td>\n",
       "      <td>0.0</td>\n",
       "      <td>None</td>\n",
       "      <td>0.3</td>\n",
       "      <td>7.88</td>\n",
       "      <td>1.0</td>\n",
       "      <td>1.0</td>\n",
       "      <td>0.00</td>\n",
       "      <td>4.283333</td>\n",
       "    </tr>\n",
       "  </tbody>\n",
       "</table>\n",
       "<p>5 rows × 21 columns</p>\n",
       "</div>"
      ],
      "text/plain": [
       "   VendorID lpep_pickup_datetime lpep_dropoff_datetime store_and_fwd_flag  \\\n",
       "0         2  2022-11-01 00:28:37   2022-11-01 00:31:56                  N   \n",
       "1         2  2022-11-01 00:51:02   2022-11-01 01:12:50                  N   \n",
       "2         2  2022-11-01 00:51:50   2022-11-01 00:55:38                  N   \n",
       "3         2  2022-11-01 00:03:32   2022-11-01 00:12:28                  N   \n",
       "4         2  2022-11-01 00:17:46   2022-11-01 00:22:03                  N   \n",
       "\n",
       "   RatecodeID  PULocationID  DOLocationID  passenger_count  trip_distance  \\\n",
       "0         1.0           223           223              1.0           0.71   \n",
       "1         5.0            80            90              2.0           6.86   \n",
       "2         1.0           244           244              2.0           0.58   \n",
       "3         1.0           116            74              1.0           2.74   \n",
       "4         1.0           134           134              1.0           0.91   \n",
       "\n",
       "   fare_amount  ...  mta_tax  tip_amount  tolls_amount  ehail_fee  \\\n",
       "0          4.5  ...      0.5        1.45           0.0       None   \n",
       "1         45.0  ...      0.0        9.61           0.0       None   \n",
       "2          4.5  ...      0.5        0.00           0.0       None   \n",
       "3         10.5  ...      0.5        0.00           0.0       None   \n",
       "4          5.0  ...      0.5        1.58           0.0       None   \n",
       "\n",
       "  improvement_surcharge  total_amount  payment_type  trip_type  \\\n",
       "0                   0.3          7.25           1.0        1.0   \n",
       "1                   0.3         57.66           1.0        2.0   \n",
       "2                   0.3          5.80           2.0        1.0   \n",
       "3                   0.3         11.80           2.0        1.0   \n",
       "4                   0.3          7.88           1.0        1.0   \n",
       "\n",
       "   congestion_surcharge  trip_duration  \n",
       "0                  0.00       3.316667  \n",
       "1                  2.75      21.800000  \n",
       "2                  0.00       3.800000  \n",
       "3                  0.00       8.933333  \n",
       "4                  0.00       4.283333  \n",
       "\n",
       "[5 rows x 21 columns]"
      ]
     },
     "execution_count": 63,
     "metadata": {},
     "output_type": "execute_result"
    }
   ],
   "source": [
    "df.head()"
   ]
  },
  {
   "cell_type": "code",
   "execution_count": 65,
   "id": "d1358266",
   "metadata": {},
   "outputs": [
    {
     "data": {
      "text/html": [
       "<div>\n",
       "<style scoped>\n",
       "    .dataframe tbody tr th:only-of-type {\n",
       "        vertical-align: middle;\n",
       "    }\n",
       "\n",
       "    .dataframe tbody tr th {\n",
       "        vertical-align: top;\n",
       "    }\n",
       "\n",
       "    .dataframe thead th {\n",
       "        text-align: right;\n",
       "    }\n",
       "</style>\n",
       "<table border=\"1\" class=\"dataframe\">\n",
       "  <thead>\n",
       "    <tr style=\"text-align: right;\">\n",
       "      <th></th>\n",
       "      <th>VendorID</th>\n",
       "      <th>lpep_pickup_datetime</th>\n",
       "      <th>lpep_dropoff_datetime</th>\n",
       "      <th>store_and_fwd_flag</th>\n",
       "      <th>RatecodeID</th>\n",
       "      <th>PULocationID</th>\n",
       "      <th>DOLocationID</th>\n",
       "      <th>passenger_count</th>\n",
       "      <th>trip_distance</th>\n",
       "      <th>fare_amount</th>\n",
       "      <th>...</th>\n",
       "      <th>improvement_surcharge</th>\n",
       "      <th>total_amount</th>\n",
       "      <th>payment_type</th>\n",
       "      <th>trip_type</th>\n",
       "      <th>congestion_surcharge</th>\n",
       "      <th>trip_duration</th>\n",
       "      <th>year</th>\n",
       "      <th>month</th>\n",
       "      <th>day</th>\n",
       "      <th>weekday</th>\n",
       "    </tr>\n",
       "  </thead>\n",
       "  <tbody>\n",
       "    <tr>\n",
       "      <th>0</th>\n",
       "      <td>2</td>\n",
       "      <td>2022-11-01 00:28:37</td>\n",
       "      <td>2022-11-01 00:31:56</td>\n",
       "      <td>N</td>\n",
       "      <td>1.0</td>\n",
       "      <td>223</td>\n",
       "      <td>223</td>\n",
       "      <td>1.0</td>\n",
       "      <td>0.71</td>\n",
       "      <td>4.5</td>\n",
       "      <td>...</td>\n",
       "      <td>0.3</td>\n",
       "      <td>7.25</td>\n",
       "      <td>1.0</td>\n",
       "      <td>1.0</td>\n",
       "      <td>0.00</td>\n",
       "      <td>3.316667</td>\n",
       "      <td>2022</td>\n",
       "      <td>11</td>\n",
       "      <td>1</td>\n",
       "      <td>Tuesday</td>\n",
       "    </tr>\n",
       "    <tr>\n",
       "      <th>1</th>\n",
       "      <td>2</td>\n",
       "      <td>2022-11-01 00:51:02</td>\n",
       "      <td>2022-11-01 01:12:50</td>\n",
       "      <td>N</td>\n",
       "      <td>5.0</td>\n",
       "      <td>80</td>\n",
       "      <td>90</td>\n",
       "      <td>2.0</td>\n",
       "      <td>6.86</td>\n",
       "      <td>45.0</td>\n",
       "      <td>...</td>\n",
       "      <td>0.3</td>\n",
       "      <td>57.66</td>\n",
       "      <td>1.0</td>\n",
       "      <td>2.0</td>\n",
       "      <td>2.75</td>\n",
       "      <td>21.800000</td>\n",
       "      <td>2022</td>\n",
       "      <td>11</td>\n",
       "      <td>1</td>\n",
       "      <td>Tuesday</td>\n",
       "    </tr>\n",
       "    <tr>\n",
       "      <th>2</th>\n",
       "      <td>2</td>\n",
       "      <td>2022-11-01 00:51:50</td>\n",
       "      <td>2022-11-01 00:55:38</td>\n",
       "      <td>N</td>\n",
       "      <td>1.0</td>\n",
       "      <td>244</td>\n",
       "      <td>244</td>\n",
       "      <td>2.0</td>\n",
       "      <td>0.58</td>\n",
       "      <td>4.5</td>\n",
       "      <td>...</td>\n",
       "      <td>0.3</td>\n",
       "      <td>5.80</td>\n",
       "      <td>2.0</td>\n",
       "      <td>1.0</td>\n",
       "      <td>0.00</td>\n",
       "      <td>3.800000</td>\n",
       "      <td>2022</td>\n",
       "      <td>11</td>\n",
       "      <td>1</td>\n",
       "      <td>Tuesday</td>\n",
       "    </tr>\n",
       "    <tr>\n",
       "      <th>3</th>\n",
       "      <td>2</td>\n",
       "      <td>2022-11-01 00:03:32</td>\n",
       "      <td>2022-11-01 00:12:28</td>\n",
       "      <td>N</td>\n",
       "      <td>1.0</td>\n",
       "      <td>116</td>\n",
       "      <td>74</td>\n",
       "      <td>1.0</td>\n",
       "      <td>2.74</td>\n",
       "      <td>10.5</td>\n",
       "      <td>...</td>\n",
       "      <td>0.3</td>\n",
       "      <td>11.80</td>\n",
       "      <td>2.0</td>\n",
       "      <td>1.0</td>\n",
       "      <td>0.00</td>\n",
       "      <td>8.933333</td>\n",
       "      <td>2022</td>\n",
       "      <td>11</td>\n",
       "      <td>1</td>\n",
       "      <td>Tuesday</td>\n",
       "    </tr>\n",
       "    <tr>\n",
       "      <th>4</th>\n",
       "      <td>2</td>\n",
       "      <td>2022-11-01 00:17:46</td>\n",
       "      <td>2022-11-01 00:22:03</td>\n",
       "      <td>N</td>\n",
       "      <td>1.0</td>\n",
       "      <td>134</td>\n",
       "      <td>134</td>\n",
       "      <td>1.0</td>\n",
       "      <td>0.91</td>\n",
       "      <td>5.0</td>\n",
       "      <td>...</td>\n",
       "      <td>0.3</td>\n",
       "      <td>7.88</td>\n",
       "      <td>1.0</td>\n",
       "      <td>1.0</td>\n",
       "      <td>0.00</td>\n",
       "      <td>4.283333</td>\n",
       "      <td>2022</td>\n",
       "      <td>11</td>\n",
       "      <td>1</td>\n",
       "      <td>Tuesday</td>\n",
       "    </tr>\n",
       "  </tbody>\n",
       "</table>\n",
       "<p>5 rows × 25 columns</p>\n",
       "</div>"
      ],
      "text/plain": [
       "   VendorID lpep_pickup_datetime lpep_dropoff_datetime store_and_fwd_flag  \\\n",
       "0         2  2022-11-01 00:28:37   2022-11-01 00:31:56                  N   \n",
       "1         2  2022-11-01 00:51:02   2022-11-01 01:12:50                  N   \n",
       "2         2  2022-11-01 00:51:50   2022-11-01 00:55:38                  N   \n",
       "3         2  2022-11-01 00:03:32   2022-11-01 00:12:28                  N   \n",
       "4         2  2022-11-01 00:17:46   2022-11-01 00:22:03                  N   \n",
       "\n",
       "   RatecodeID  PULocationID  DOLocationID  passenger_count  trip_distance  \\\n",
       "0         1.0           223           223              1.0           0.71   \n",
       "1         5.0            80            90              2.0           6.86   \n",
       "2         1.0           244           244              2.0           0.58   \n",
       "3         1.0           116            74              1.0           2.74   \n",
       "4         1.0           134           134              1.0           0.91   \n",
       "\n",
       "   fare_amount  ...  improvement_surcharge  total_amount  payment_type  \\\n",
       "0          4.5  ...                    0.3          7.25           1.0   \n",
       "1         45.0  ...                    0.3         57.66           1.0   \n",
       "2          4.5  ...                    0.3          5.80           2.0   \n",
       "3         10.5  ...                    0.3         11.80           2.0   \n",
       "4          5.0  ...                    0.3          7.88           1.0   \n",
       "\n",
       "   trip_type congestion_surcharge  trip_duration  year  month  day  weekday  \n",
       "0        1.0                 0.00       3.316667  2022     11    1  Tuesday  \n",
       "1        2.0                 2.75      21.800000  2022     11    1  Tuesday  \n",
       "2        1.0                 0.00       3.800000  2022     11    1  Tuesday  \n",
       "3        1.0                 0.00       8.933333  2022     11    1  Tuesday  \n",
       "4        1.0                 0.00       4.283333  2022     11    1  Tuesday  \n",
       "\n",
       "[5 rows x 25 columns]"
      ]
     },
     "metadata": {},
     "output_type": "display_data"
    }
   ],
   "source": [
    "df['year'] = df['lpep_pickup_datetime'].dt.year\n",
    "df['month'] = df['lpep_pickup_datetime'].dt.month\n",
    "df['day'] = df['lpep_pickup_datetime'].dt.day\n",
    "df['weekday'] = df['lpep_pickup_datetime'].dt.day_name()\n",
    "display(df.head())"
   ]
  },
  {
   "cell_type": "code",
   "execution_count": 66,
   "id": "d8e6b3a5",
   "metadata": {},
   "outputs": [
    {
     "data": {
      "text/html": [
       "<div>\n",
       "<style scoped>\n",
       "    .dataframe tbody tr th:only-of-type {\n",
       "        vertical-align: middle;\n",
       "    }\n",
       "\n",
       "    .dataframe tbody tr th {\n",
       "        vertical-align: top;\n",
       "    }\n",
       "\n",
       "    .dataframe thead th {\n",
       "        text-align: right;\n",
       "    }\n",
       "</style>\n",
       "<table border=\"1\" class=\"dataframe\">\n",
       "  <thead>\n",
       "    <tr style=\"text-align: right;\">\n",
       "      <th></th>\n",
       "      <th>store_and_fwd_flag</th>\n",
       "      <th>VendorID</th>\n",
       "    </tr>\n",
       "  </thead>\n",
       "  <tbody>\n",
       "    <tr>\n",
       "      <th>0</th>\n",
       "      <td>N</td>\n",
       "      <td>55916</td>\n",
       "    </tr>\n",
       "    <tr>\n",
       "      <th>1</th>\n",
       "      <td>Y</td>\n",
       "      <td>276</td>\n",
       "    </tr>\n",
       "  </tbody>\n",
       "</table>\n",
       "</div>"
      ],
      "text/plain": [
       "  store_and_fwd_flag  VendorID\n",
       "0                  N     55916\n",
       "1                  Y       276"
      ]
     },
     "execution_count": 66,
     "metadata": {},
     "output_type": "execute_result"
    }
   ],
   "source": [
    "df.groupby('store_and_fwd_flag').agg({'VendorID':'count'}).reset_index()"
   ]
  },
  {
   "cell_type": "code",
   "execution_count": 67,
   "id": "a9145760",
   "metadata": {},
   "outputs": [
    {
     "name": "stdout",
     "output_type": "stream",
     "text": [
      "weekday\n",
      "Friday        8670\n",
      "Monday        8465\n",
      "Saturday      7603\n",
      "Sunday        6373\n",
      "Thursday      8568\n",
      "Tuesday      11095\n",
      "Wednesday    11539\n",
      "Name: VendorID, dtype: int64\n"
     ]
    },
    {
     "data": {
      "text/plain": [
       "<AxesSubplot:xlabel='weekday', ylabel='Count'>"
      ]
     },
     "execution_count": 67,
     "metadata": {},
     "output_type": "execute_result"
    },
    {
     "data": {
      "image/png": "[encoded data removed]",
      "text/plain": [
       "<Figure size 576x396 with 1 Axes>"
      ]
     },
     "metadata": {},
     "output_type": "display_data"
    }
   ],
   "source": [
    "print(df.groupby('weekday')['VendorID'].count())\n",
    "\n",
    "sns.histplot(df['weekday'])"
   ]
  },
  {
   "cell_type": "code",
   "execution_count": 68,
   "id": "f010b5d3",
   "metadata": {},
   "outputs": [],
   "source": [
    "df['hour'] = df.lpep_pickup_datetime.dt.hour\n",
    "df['minute'] = df.lpep_pickup_datetime.dt.minute\n",
    "df['seconds'] = df.lpep_pickup_datetime.dt.second"
   ]
  },
  {
   "cell_type": "code",
   "execution_count": 69,
   "id": "2be8ea7b",
   "metadata": {},
   "outputs": [
    {
     "data": {
      "text/html": [
       "<div>\n",
       "<style scoped>\n",
       "    .dataframe tbody tr th:only-of-type {\n",
       "        vertical-align: middle;\n",
       "    }\n",
       "\n",
       "    .dataframe tbody tr th {\n",
       "        vertical-align: top;\n",
       "    }\n",
       "\n",
       "    .dataframe thead th {\n",
       "        text-align: right;\n",
       "    }\n",
       "</style>\n",
       "<table border=\"1\" class=\"dataframe\">\n",
       "  <thead>\n",
       "    <tr style=\"text-align: right;\">\n",
       "      <th></th>\n",
       "      <th>VendorID</th>\n",
       "      <th>lpep_pickup_datetime</th>\n",
       "      <th>lpep_dropoff_datetime</th>\n",
       "      <th>store_and_fwd_flag</th>\n",
       "      <th>RatecodeID</th>\n",
       "      <th>PULocationID</th>\n",
       "      <th>DOLocationID</th>\n",
       "      <th>passenger_count</th>\n",
       "      <th>trip_distance</th>\n",
       "      <th>fare_amount</th>\n",
       "      <th>...</th>\n",
       "      <th>trip_type</th>\n",
       "      <th>congestion_surcharge</th>\n",
       "      <th>trip_duration</th>\n",
       "      <th>year</th>\n",
       "      <th>month</th>\n",
       "      <th>day</th>\n",
       "      <th>weekday</th>\n",
       "      <th>hour</th>\n",
       "      <th>minute</th>\n",
       "      <th>seconds</th>\n",
       "    </tr>\n",
       "  </thead>\n",
       "  <tbody>\n",
       "    <tr>\n",
       "      <th>0</th>\n",
       "      <td>2</td>\n",
       "      <td>2022-11-01 00:28:37</td>\n",
       "      <td>2022-11-01 00:31:56</td>\n",
       "      <td>N</td>\n",
       "      <td>1.0</td>\n",
       "      <td>223</td>\n",
       "      <td>223</td>\n",
       "      <td>1.0</td>\n",
       "      <td>0.71</td>\n",
       "      <td>4.5</td>\n",
       "      <td>...</td>\n",
       "      <td>1.0</td>\n",
       "      <td>0.00</td>\n",
       "      <td>3.316667</td>\n",
       "      <td>2022</td>\n",
       "      <td>11</td>\n",
       "      <td>1</td>\n",
       "      <td>Tuesday</td>\n",
       "      <td>0</td>\n",
       "      <td>28</td>\n",
       "      <td>37</td>\n",
       "    </tr>\n",
       "    <tr>\n",
       "      <th>1</th>\n",
       "      <td>2</td>\n",
       "      <td>2022-11-01 00:51:02</td>\n",
       "      <td>2022-11-01 01:12:50</td>\n",
       "      <td>N</td>\n",
       "      <td>5.0</td>\n",
       "      <td>80</td>\n",
       "      <td>90</td>\n",
       "      <td>2.0</td>\n",
       "      <td>6.86</td>\n",
       "      <td>45.0</td>\n",
       "      <td>...</td>\n",
       "      <td>2.0</td>\n",
       "      <td>2.75</td>\n",
       "      <td>21.800000</td>\n",
       "      <td>2022</td>\n",
       "      <td>11</td>\n",
       "      <td>1</td>\n",
       "      <td>Tuesday</td>\n",
       "      <td>0</td>\n",
       "      <td>51</td>\n",
       "      <td>2</td>\n",
       "    </tr>\n",
       "    <tr>\n",
       "      <th>2</th>\n",
       "      <td>2</td>\n",
       "      <td>2022-11-01 00:51:50</td>\n",
       "      <td>2022-11-01 00:55:38</td>\n",
       "      <td>N</td>\n",
       "      <td>1.0</td>\n",
       "      <td>244</td>\n",
       "      <td>244</td>\n",
       "      <td>2.0</td>\n",
       "      <td>0.58</td>\n",
       "      <td>4.5</td>\n",
       "      <td>...</td>\n",
       "      <td>1.0</td>\n",
       "      <td>0.00</td>\n",
       "      <td>3.800000</td>\n",
       "      <td>2022</td>\n",
       "      <td>11</td>\n",
       "      <td>1</td>\n",
       "      <td>Tuesday</td>\n",
       "      <td>0</td>\n",
       "      <td>51</td>\n",
       "      <td>50</td>\n",
       "    </tr>\n",
       "    <tr>\n",
       "      <th>3</th>\n",
       "      <td>2</td>\n",
       "      <td>2022-11-01 00:03:32</td>\n",
       "      <td>2022-11-01 00:12:28</td>\n",
       "      <td>N</td>\n",
       "      <td>1.0</td>\n",
       "      <td>116</td>\n",
       "      <td>74</td>\n",
       "      <td>1.0</td>\n",
       "      <td>2.74</td>\n",
       "      <td>10.5</td>\n",
       "      <td>...</td>\n",
       "      <td>1.0</td>\n",
       "      <td>0.00</td>\n",
       "      <td>8.933333</td>\n",
       "      <td>2022</td>\n",
       "      <td>11</td>\n",
       "      <td>1</td>\n",
       "      <td>Tuesday</td>\n",
       "      <td>0</td>\n",
       "      <td>3</td>\n",
       "      <td>32</td>\n",
       "    </tr>\n",
       "    <tr>\n",
       "      <th>4</th>\n",
       "      <td>2</td>\n",
       "      <td>2022-11-01 00:17:46</td>\n",
       "      <td>2022-11-01 00:22:03</td>\n",
       "      <td>N</td>\n",
       "      <td>1.0</td>\n",
       "      <td>134</td>\n",
       "      <td>134</td>\n",
       "      <td>1.0</td>\n",
       "      <td>0.91</td>\n",
       "      <td>5.0</td>\n",
       "      <td>...</td>\n",
       "      <td>1.0</td>\n",
       "      <td>0.00</td>\n",
       "      <td>4.283333</td>\n",
       "      <td>2022</td>\n",
       "      <td>11</td>\n",
       "      <td>1</td>\n",
       "      <td>Tuesday</td>\n",
       "      <td>0</td>\n",
       "      <td>17</td>\n",
       "      <td>46</td>\n",
       "    </tr>\n",
       "  </tbody>\n",
       "</table>\n",
       "<p>5 rows × 28 columns</p>\n",
       "</div>"
      ],
      "text/plain": [
       "   VendorID lpep_pickup_datetime lpep_dropoff_datetime store_and_fwd_flag  \\\n",
       "0         2  2022-11-01 00:28:37   2022-11-01 00:31:56                  N   \n",
       "1         2  2022-11-01 00:51:02   2022-11-01 01:12:50                  N   \n",
       "2         2  2022-11-01 00:51:50   2022-11-01 00:55:38                  N   \n",
       "3         2  2022-11-01 00:03:32   2022-11-01 00:12:28                  N   \n",
       "4         2  2022-11-01 00:17:46   2022-11-01 00:22:03                  N   \n",
       "\n",
       "   RatecodeID  PULocationID  DOLocationID  passenger_count  trip_distance  \\\n",
       "0         1.0           223           223              1.0           0.71   \n",
       "1         5.0            80            90              2.0           6.86   \n",
       "2         1.0           244           244              2.0           0.58   \n",
       "3         1.0           116            74              1.0           2.74   \n",
       "4         1.0           134           134              1.0           0.91   \n",
       "\n",
       "   fare_amount  ...  trip_type  congestion_surcharge  trip_duration  year  \\\n",
       "0          4.5  ...        1.0                  0.00       3.316667  2022   \n",
       "1         45.0  ...        2.0                  2.75      21.800000  2022   \n",
       "2          4.5  ...        1.0                  0.00       3.800000  2022   \n",
       "3         10.5  ...        1.0                  0.00       8.933333  2022   \n",
       "4          5.0  ...        1.0                  0.00       4.283333  2022   \n",
       "\n",
       "  month  day  weekday  hour  minute  seconds  \n",
       "0    11    1  Tuesday     0      28       37  \n",
       "1    11    1  Tuesday     0      51        2  \n",
       "2    11    1  Tuesday     0      51       50  \n",
       "3    11    1  Tuesday     0       3       32  \n",
       "4    11    1  Tuesday     0      17       46  \n",
       "\n",
       "[5 rows x 28 columns]"
      ]
     },
     "execution_count": 69,
     "metadata": {},
     "output_type": "execute_result"
    }
   ],
   "source": [
    "df.head()"
   ]
  },
  {
   "cell_type": "code",
   "execution_count": 9,
   "id": "dfd18cc6",
   "metadata": {},
   "outputs": [
    {
     "name": "stdout",
     "output_type": "stream",
     "text": [
      "['RatecodeID', 'passenger_count', 'trip_distance', 'fare_amount', 'extra', 'mta_tax', 'tip_amount', 'tolls_amount', 'improvement_surcharge', 'total_amount', 'payment_type', 'trip_type', 'congestion_surcharge']\n"
     ]
    }
   ],
   "source": [
    "num_cols = [num for num in df.columns if df[num].dtype in ('float','int')]\n",
    "print(num_cols)"
   ]
  },
  {
   "cell_type": "code",
   "execution_count": 70,
   "id": "3cf0f39e",
   "metadata": {},
   "outputs": [
    {
     "data": {
      "image/png": "[encoded data removed]",
      "text/plain": [
       "<Figure size 864x720 with 6 Axes>"
      ]
     },
     "metadata": {},
     "output_type": "display_data"
    }
   ],
   "source": [
    "figure, axes = plt.subplots(nrows=3, ncols=2)\n",
    "plt.tight_layout()\n",
    "figure.set_size_inches(12,10)\n",
    "\n",
    "\n",
    "sns.barplot(x='month', y='trip_duration', data=df, ax=axes[0,0])\n",
    "sns.barplot(x='day', y='trip_duration', data=df, ax=axes[0,1])\n",
    "sns.barplot(x='hour', y='trip_duration', data=df, ax=axes[1,0])\n",
    "sns.barplot(x='minute', y='trip_duration', data=df, ax=axes[1,1])\n",
    "sns.barplot(x='seconds', y='trip_duration', data=df, ax=axes[2,0])\n",
    "sns.barplot(x='store_and_fwd_flag', y='trip_duration', data=df, ax=axes[2,1])\n",
    "\n",
    "axes[0,0].set(title='Trips by month')\n",
    "axes[0,1].set(title='Trips by day')\n",
    "axes[1,0].set(title='Trips by the hour')\n",
    "axes[1,1].set(title='Trips by the minute')\n",
    "axes[2,0].set(title='Trips by the second')\n",
    "axes[2,1].set(title='Trip Records')\n",
    "\n",
    "axes[1,0].tick_params(axis='x', labelrotation=0)\n",
    "axes[0,1].tick_params(axis='x', labelrotation=45)"
   ]
  },
  {
   "cell_type": "code",
   "execution_count": 72,
   "id": "db2c747d",
   "metadata": {},
   "outputs": [
    {
     "data": {
      "text/plain": [
       "<AxesSubplot:xlabel='trip_distance', ylabel='trip_duration'>"
      ]
     },
     "execution_count": 72,
     "metadata": {},
     "output_type": "execute_result"
    },
    {
     "data": {
      "image/png": "[encoded data removed]",
      "text/plain": [
       "<Figure size 576x396 with 1 Axes>"
      ]
     },
     "metadata": {},
     "output_type": "display_data"
    }
   ],
   "source": [
    "sns.regplot(x='trip_distance', y='trip_duration', data=df, \n",
    "            scatter_kws={'alpha':0.2}, line_kws={'color': 'blue'})"
   ]
  },
  {
   "cell_type": "code",
   "execution_count": 83,
   "id": "f2cb048d",
   "metadata": {},
   "outputs": [
    {
     "data": {
      "text/html": [
       "<div>\n",
       "<style scoped>\n",
       "    .dataframe tbody tr th:only-of-type {\n",
       "        vertical-align: middle;\n",
       "    }\n",
       "\n",
       "    .dataframe tbody tr th {\n",
       "        vertical-align: top;\n",
       "    }\n",
       "\n",
       "    .dataframe thead th {\n",
       "        text-align: right;\n",
       "    }\n",
       "</style>\n",
       "<table border=\"1\" class=\"dataframe\">\n",
       "  <thead>\n",
       "    <tr style=\"text-align: right;\">\n",
       "      <th></th>\n",
       "      <th>VendorID</th>\n",
       "      <th>lpep_pickup_datetime</th>\n",
       "      <th>lpep_dropoff_datetime</th>\n",
       "      <th>store_and_fwd_flag</th>\n",
       "      <th>RatecodeID</th>\n",
       "      <th>PULocationID</th>\n",
       "      <th>DOLocationID</th>\n",
       "      <th>passenger_count</th>\n",
       "      <th>trip_distance</th>\n",
       "      <th>fare_amount</th>\n",
       "      <th>...</th>\n",
       "      <th>trip_type</th>\n",
       "      <th>congestion_surcharge</th>\n",
       "      <th>trip_duration</th>\n",
       "      <th>year</th>\n",
       "      <th>month</th>\n",
       "      <th>day</th>\n",
       "      <th>weekday</th>\n",
       "      <th>hour</th>\n",
       "      <th>minute</th>\n",
       "      <th>seconds</th>\n",
       "    </tr>\n",
       "  </thead>\n",
       "  <tbody>\n",
       "    <tr>\n",
       "      <th>0</th>\n",
       "      <td>2</td>\n",
       "      <td>2022-11-01 00:28:37</td>\n",
       "      <td>2022-11-01 00:31:56</td>\n",
       "      <td>0</td>\n",
       "      <td>1.0</td>\n",
       "      <td>223</td>\n",
       "      <td>223</td>\n",
       "      <td>1.0</td>\n",
       "      <td>0.71</td>\n",
       "      <td>4.5</td>\n",
       "      <td>...</td>\n",
       "      <td>1.0</td>\n",
       "      <td>0.00</td>\n",
       "      <td>3.316667</td>\n",
       "      <td>2022</td>\n",
       "      <td>11</td>\n",
       "      <td>1</td>\n",
       "      <td>5</td>\n",
       "      <td>0</td>\n",
       "      <td>28</td>\n",
       "      <td>37</td>\n",
       "    </tr>\n",
       "    <tr>\n",
       "      <th>1</th>\n",
       "      <td>2</td>\n",
       "      <td>2022-11-01 00:51:02</td>\n",
       "      <td>2022-11-01 01:12:50</td>\n",
       "      <td>0</td>\n",
       "      <td>5.0</td>\n",
       "      <td>80</td>\n",
       "      <td>90</td>\n",
       "      <td>2.0</td>\n",
       "      <td>6.86</td>\n",
       "      <td>45.0</td>\n",
       "      <td>...</td>\n",
       "      <td>2.0</td>\n",
       "      <td>2.75</td>\n",
       "      <td>21.800000</td>\n",
       "      <td>2022</td>\n",
       "      <td>11</td>\n",
       "      <td>1</td>\n",
       "      <td>5</td>\n",
       "      <td>0</td>\n",
       "      <td>51</td>\n",
       "      <td>2</td>\n",
       "    </tr>\n",
       "    <tr>\n",
       "      <th>2</th>\n",
       "      <td>2</td>\n",
       "      <td>2022-11-01 00:51:50</td>\n",
       "      <td>2022-11-01 00:55:38</td>\n",
       "      <td>0</td>\n",
       "      <td>1.0</td>\n",
       "      <td>244</td>\n",
       "      <td>244</td>\n",
       "      <td>2.0</td>\n",
       "      <td>0.58</td>\n",
       "      <td>4.5</td>\n",
       "      <td>...</td>\n",
       "      <td>1.0</td>\n",
       "      <td>0.00</td>\n",
       "      <td>3.800000</td>\n",
       "      <td>2022</td>\n",
       "      <td>11</td>\n",
       "      <td>1</td>\n",
       "      <td>5</td>\n",
       "      <td>0</td>\n",
       "      <td>51</td>\n",
       "      <td>50</td>\n",
       "    </tr>\n",
       "    <tr>\n",
       "      <th>3</th>\n",
       "      <td>2</td>\n",
       "      <td>2022-11-01 00:03:32</td>\n",
       "      <td>2022-11-01 00:12:28</td>\n",
       "      <td>0</td>\n",
       "      <td>1.0</td>\n",
       "      <td>116</td>\n",
       "      <td>74</td>\n",
       "      <td>1.0</td>\n",
       "      <td>2.74</td>\n",
       "      <td>10.5</td>\n",
       "      <td>...</td>\n",
       "      <td>1.0</td>\n",
       "      <td>0.00</td>\n",
       "      <td>8.933333</td>\n",
       "      <td>2022</td>\n",
       "      <td>11</td>\n",
       "      <td>1</td>\n",
       "      <td>5</td>\n",
       "      <td>0</td>\n",
       "      <td>3</td>\n",
       "      <td>32</td>\n",
       "    </tr>\n",
       "    <tr>\n",
       "      <th>4</th>\n",
       "      <td>2</td>\n",
       "      <td>2022-11-01 00:17:46</td>\n",
       "      <td>2022-11-01 00:22:03</td>\n",
       "      <td>0</td>\n",
       "      <td>1.0</td>\n",
       "      <td>134</td>\n",
       "      <td>134</td>\n",
       "      <td>1.0</td>\n",
       "      <td>0.91</td>\n",
       "      <td>5.0</td>\n",
       "      <td>...</td>\n",
       "      <td>1.0</td>\n",
       "      <td>0.00</td>\n",
       "      <td>4.283333</td>\n",
       "      <td>2022</td>\n",
       "      <td>11</td>\n",
       "      <td>1</td>\n",
       "      <td>5</td>\n",
       "      <td>0</td>\n",
       "      <td>17</td>\n",
       "      <td>46</td>\n",
       "    </tr>\n",
       "  </tbody>\n",
       "</table>\n",
       "<p>5 rows × 28 columns</p>\n",
       "</div>"
      ],
      "text/plain": [
       "   VendorID lpep_pickup_datetime lpep_dropoff_datetime  store_and_fwd_flag  \\\n",
       "0         2  2022-11-01 00:28:37   2022-11-01 00:31:56                   0   \n",
       "1         2  2022-11-01 00:51:02   2022-11-01 01:12:50                   0   \n",
       "2         2  2022-11-01 00:51:50   2022-11-01 00:55:38                   0   \n",
       "3         2  2022-11-01 00:03:32   2022-11-01 00:12:28                   0   \n",
       "4         2  2022-11-01 00:17:46   2022-11-01 00:22:03                   0   \n",
       "\n",
       "   RatecodeID  PULocationID  DOLocationID  passenger_count  trip_distance  \\\n",
       "0         1.0           223           223              1.0           0.71   \n",
       "1         5.0            80            90              2.0           6.86   \n",
       "2         1.0           244           244              2.0           0.58   \n",
       "3         1.0           116            74              1.0           2.74   \n",
       "4         1.0           134           134              1.0           0.91   \n",
       "\n",
       "   fare_amount  ...  trip_type  congestion_surcharge  trip_duration  year  \\\n",
       "0          4.5  ...        1.0                  0.00       3.316667  2022   \n",
       "1         45.0  ...        2.0                  2.75      21.800000  2022   \n",
       "2          4.5  ...        1.0                  0.00       3.800000  2022   \n",
       "3         10.5  ...        1.0                  0.00       8.933333  2022   \n",
       "4          5.0  ...        1.0                  0.00       4.283333  2022   \n",
       "\n",
       "   month  day  weekday  hour  minute  seconds  \n",
       "0     11    1        5     0      28       37  \n",
       "1     11    1        5     0      51        2  \n",
       "2     11    1        5     0      51       50  \n",
       "3     11    1        5     0       3       32  \n",
       "4     11    1        5     0      17       46  \n",
       "\n",
       "[5 rows x 28 columns]"
      ]
     },
     "execution_count": 83,
     "metadata": {},
     "output_type": "execute_result"
    }
   ],
   "source": [
    "df.head()"
   ]
  },
  {
   "cell_type": "code",
   "execution_count": 76,
   "id": "46c739c0",
   "metadata": {},
   "outputs": [],
   "source": [
    "Lb = LabelEncoder()"
   ]
  },
  {
   "cell_type": "code",
   "execution_count": 77,
   "id": "ebb06736",
   "metadata": {},
   "outputs": [],
   "source": [
    "df['store_and_fwd_flag']  = Lb.fit_transform(df['store_and_fwd_flag'])\n",
    "df['ehail_fee']  = Lb.fit_transform(df['ehail_fee'])\n",
    "df['weekday']  = Lb.fit_transform(df['weekday'])"
   ]
  },
  {
   "cell_type": "code",
   "execution_count": 81,
   "id": "b2020026",
   "metadata": {},
   "outputs": [
    {
     "data": {
      "text/plain": [
       "VendorID                          int64\n",
       "lpep_pickup_datetime     datetime64[ns]\n",
       "lpep_dropoff_datetime    datetime64[ns]\n",
       "store_and_fwd_flag                int32\n",
       "RatecodeID                      float64\n",
       "PULocationID                      int64\n",
       "DOLocationID                      int64\n",
       "passenger_count                 float64\n",
       "trip_distance                   float64\n",
       "fare_amount                     float64\n",
       "extra                           float64\n",
       "mta_tax                         float64\n",
       "tip_amount                      float64\n",
       "tolls_amount                    float64\n",
       "ehail_fee                         int32\n",
       "improvement_surcharge           float64\n",
       "total_amount                    float64\n",
       "payment_type                    float64\n",
       "trip_type                       float64\n",
       "congestion_surcharge            float64\n",
       "trip_duration                   float64\n",
       "year                              int64\n",
       "month                             int64\n",
       "day                               int64\n",
       "weekday                           int32\n",
       "hour                              int64\n",
       "minute                            int64\n",
       "seconds                           int64\n",
       "dtype: object"
      ]
     },
     "execution_count": 81,
     "metadata": {},
     "output_type": "execute_result"
    }
   ],
   "source": [
    "df.dtypes"
   ]
  },
  {
   "cell_type": "code",
   "execution_count": 84,
   "id": "d611c177",
   "metadata": {},
   "outputs": [],
   "source": [
    "df.drop('year', axis=1, inplace=True)"
   ]
  },
  {
   "cell_type": "code",
   "execution_count": 85,
   "id": "280fccd4",
   "metadata": {},
   "outputs": [
    {
     "data": {
      "text/html": [
       "<div>\n",
       "<style scoped>\n",
       "    .dataframe tbody tr th:only-of-type {\n",
       "        vertical-align: middle;\n",
       "    }\n",
       "\n",
       "    .dataframe tbody tr th {\n",
       "        vertical-align: top;\n",
       "    }\n",
       "\n",
       "    .dataframe thead th {\n",
       "        text-align: right;\n",
       "    }\n",
       "</style>\n",
       "<table border=\"1\" class=\"dataframe\">\n",
       "  <thead>\n",
       "    <tr style=\"text-align: right;\">\n",
       "      <th></th>\n",
       "      <th>VendorID</th>\n",
       "      <th>lpep_pickup_datetime</th>\n",
       "      <th>lpep_dropoff_datetime</th>\n",
       "      <th>store_and_fwd_flag</th>\n",
       "      <th>RatecodeID</th>\n",
       "      <th>PULocationID</th>\n",
       "      <th>DOLocationID</th>\n",
       "      <th>passenger_count</th>\n",
       "      <th>trip_distance</th>\n",
       "      <th>fare_amount</th>\n",
       "      <th>...</th>\n",
       "      <th>payment_type</th>\n",
       "      <th>trip_type</th>\n",
       "      <th>congestion_surcharge</th>\n",
       "      <th>trip_duration</th>\n",
       "      <th>month</th>\n",
       "      <th>day</th>\n",
       "      <th>weekday</th>\n",
       "      <th>hour</th>\n",
       "      <th>minute</th>\n",
       "      <th>seconds</th>\n",
       "    </tr>\n",
       "  </thead>\n",
       "  <tbody>\n",
       "    <tr>\n",
       "      <th>0</th>\n",
       "      <td>2</td>\n",
       "      <td>2022-11-01 00:28:37</td>\n",
       "      <td>2022-11-01 00:31:56</td>\n",
       "      <td>0</td>\n",
       "      <td>1.0</td>\n",
       "      <td>223</td>\n",
       "      <td>223</td>\n",
       "      <td>1.0</td>\n",
       "      <td>0.71</td>\n",
       "      <td>4.5</td>\n",
       "      <td>...</td>\n",
       "      <td>1.0</td>\n",
       "      <td>1.0</td>\n",
       "      <td>0.00</td>\n",
       "      <td>3.316667</td>\n",
       "      <td>11</td>\n",
       "      <td>1</td>\n",
       "      <td>5</td>\n",
       "      <td>0</td>\n",
       "      <td>28</td>\n",
       "      <td>37</td>\n",
       "    </tr>\n",
       "    <tr>\n",
       "      <th>1</th>\n",
       "      <td>2</td>\n",
       "      <td>2022-11-01 00:51:02</td>\n",
       "      <td>2022-11-01 01:12:50</td>\n",
       "      <td>0</td>\n",
       "      <td>5.0</td>\n",
       "      <td>80</td>\n",
       "      <td>90</td>\n",
       "      <td>2.0</td>\n",
       "      <td>6.86</td>\n",
       "      <td>45.0</td>\n",
       "      <td>...</td>\n",
       "      <td>1.0</td>\n",
       "      <td>2.0</td>\n",
       "      <td>2.75</td>\n",
       "      <td>21.800000</td>\n",
       "      <td>11</td>\n",
       "      <td>1</td>\n",
       "      <td>5</td>\n",
       "      <td>0</td>\n",
       "      <td>51</td>\n",
       "      <td>2</td>\n",
       "    </tr>\n",
       "    <tr>\n",
       "      <th>2</th>\n",
       "      <td>2</td>\n",
       "      <td>2022-11-01 00:51:50</td>\n",
       "      <td>2022-11-01 00:55:38</td>\n",
       "      <td>0</td>\n",
       "      <td>1.0</td>\n",
       "      <td>244</td>\n",
       "      <td>244</td>\n",
       "      <td>2.0</td>\n",
       "      <td>0.58</td>\n",
       "      <td>4.5</td>\n",
       "      <td>...</td>\n",
       "      <td>2.0</td>\n",
       "      <td>1.0</td>\n",
       "      <td>0.00</td>\n",
       "      <td>3.800000</td>\n",
       "      <td>11</td>\n",
       "      <td>1</td>\n",
       "      <td>5</td>\n",
       "      <td>0</td>\n",
       "      <td>51</td>\n",
       "      <td>50</td>\n",
       "    </tr>\n",
       "    <tr>\n",
       "      <th>3</th>\n",
       "      <td>2</td>\n",
       "      <td>2022-11-01 00:03:32</td>\n",
       "      <td>2022-11-01 00:12:28</td>\n",
       "      <td>0</td>\n",
       "      <td>1.0</td>\n",
       "      <td>116</td>\n",
       "      <td>74</td>\n",
       "      <td>1.0</td>\n",
       "      <td>2.74</td>\n",
       "      <td>10.5</td>\n",
       "      <td>...</td>\n",
       "      <td>2.0</td>\n",
       "      <td>1.0</td>\n",
       "      <td>0.00</td>\n",
       "      <td>8.933333</td>\n",
       "      <td>11</td>\n",
       "      <td>1</td>\n",
       "      <td>5</td>\n",
       "      <td>0</td>\n",
       "      <td>3</td>\n",
       "      <td>32</td>\n",
       "    </tr>\n",
       "    <tr>\n",
       "      <th>4</th>\n",
       "      <td>2</td>\n",
       "      <td>2022-11-01 00:17:46</td>\n",
       "      <td>2022-11-01 00:22:03</td>\n",
       "      <td>0</td>\n",
       "      <td>1.0</td>\n",
       "      <td>134</td>\n",
       "      <td>134</td>\n",
       "      <td>1.0</td>\n",
       "      <td>0.91</td>\n",
       "      <td>5.0</td>\n",
       "      <td>...</td>\n",
       "      <td>1.0</td>\n",
       "      <td>1.0</td>\n",
       "      <td>0.00</td>\n",
       "      <td>4.283333</td>\n",
       "      <td>11</td>\n",
       "      <td>1</td>\n",
       "      <td>5</td>\n",
       "      <td>0</td>\n",
       "      <td>17</td>\n",
       "      <td>46</td>\n",
       "    </tr>\n",
       "  </tbody>\n",
       "</table>\n",
       "<p>5 rows × 27 columns</p>\n",
       "</div>"
      ],
      "text/plain": [
       "   VendorID lpep_pickup_datetime lpep_dropoff_datetime  store_and_fwd_flag  \\\n",
       "0         2  2022-11-01 00:28:37   2022-11-01 00:31:56                   0   \n",
       "1         2  2022-11-01 00:51:02   2022-11-01 01:12:50                   0   \n",
       "2         2  2022-11-01 00:51:50   2022-11-01 00:55:38                   0   \n",
       "3         2  2022-11-01 00:03:32   2022-11-01 00:12:28                   0   \n",
       "4         2  2022-11-01 00:17:46   2022-11-01 00:22:03                   0   \n",
       "\n",
       "   RatecodeID  PULocationID  DOLocationID  passenger_count  trip_distance  \\\n",
       "0         1.0           223           223              1.0           0.71   \n",
       "1         5.0            80            90              2.0           6.86   \n",
       "2         1.0           244           244              2.0           0.58   \n",
       "3         1.0           116            74              1.0           2.74   \n",
       "4         1.0           134           134              1.0           0.91   \n",
       "\n",
       "   fare_amount  ...  payment_type  trip_type  congestion_surcharge  \\\n",
       "0          4.5  ...           1.0        1.0                  0.00   \n",
       "1         45.0  ...           1.0        2.0                  2.75   \n",
       "2          4.5  ...           2.0        1.0                  0.00   \n",
       "3         10.5  ...           2.0        1.0                  0.00   \n",
       "4          5.0  ...           1.0        1.0                  0.00   \n",
       "\n",
       "   trip_duration  month  day  weekday  hour  minute  seconds  \n",
       "0       3.316667     11    1        5     0      28       37  \n",
       "1      21.800000     11    1        5     0      51        2  \n",
       "2       3.800000     11    1        5     0      51       50  \n",
       "3       8.933333     11    1        5     0       3       32  \n",
       "4       4.283333     11    1        5     0      17       46  \n",
       "\n",
       "[5 rows x 27 columns]"
      ]
     },
     "execution_count": 85,
     "metadata": {},
     "output_type": "execute_result"
    }
   ],
   "source": [
    "df.head()"
   ]
  },
  {
   "cell_type": "code",
   "execution_count": null,
   "id": "16eded79",
   "metadata": {},
   "outputs": [],
   "source": []
  },
  {
   "cell_type": "code",
   "execution_count": null,
   "id": "966e7c12",
   "metadata": {},
   "outputs": [],
   "source": []
  },
  {
   "cell_type": "code",
   "execution_count": 68,
   "id": "4bea7674",
   "metadata": {},
   "outputs": [],
   "source": [
    "df[\"store_and_fwd_flag\"]=df[\"store_and_fwd_flag\"].fillna(df[\"store_and_fwd_flag\"].median())\n",
    "df[\"RatecodeID\"]=df[\"RatecodeID\"].fillna(df[\"RatecodeID\"].median())\n",
    "df[\"passenger_count\"]=df[\"passenger_count\"].fillna(df[\"passenger_count\"].median())\n",
    "df[\"ehail_fee\"]=df[\"ehail_fee\"].fillna(df[\"ehail_fee\"].median())\n",
    "df[\"payment_type\"]=df[\"payment_type\"].fillna(df[\"payment_type\"].median())\n",
    "df[\"trip_type\"]=df[\"trip_type\"].fillna(df[\"trip_type\"].median())\n",
    "df[\"congestion_surcharge\"]=df[\"congestion_surcharge\"].fillna(df[\"congestion_surcharge\"].median())"
   ]
  },
  {
   "cell_type": "code",
   "execution_count": 82,
   "id": "8aec8bef",
   "metadata": {},
   "outputs": [
    {
     "data": {
      "text/plain": [
       "VendorID                    0\n",
       "lpep_pickup_datetime        0\n",
       "lpep_dropoff_datetime       0\n",
       "store_and_fwd_flag          0\n",
       "RatecodeID               6121\n",
       "PULocationID                0\n",
       "DOLocationID                0\n",
       "passenger_count          6121\n",
       "trip_distance               0\n",
       "fare_amount                 0\n",
       "extra                       0\n",
       "mta_tax                     0\n",
       "tip_amount                  0\n",
       "tolls_amount                0\n",
       "ehail_fee                   0\n",
       "improvement_surcharge       0\n",
       "total_amount                0\n",
       "payment_type             6121\n",
       "trip_type                6121\n",
       "congestion_surcharge     6121\n",
       "trip_duration               0\n",
       "year                        0\n",
       "month                       0\n",
       "day                         0\n",
       "weekday                     0\n",
       "hour                        0\n",
       "minute                      0\n",
       "seconds                     0\n",
       "dtype: int64"
      ]
     },
     "execution_count": 82,
     "metadata": {},
     "output_type": "execute_result"
    }
   ],
   "source": [
    "df.isna().sum()"
   ]
  },
  {
   "cell_type": "code",
   "execution_count": null,
   "id": "5c7445b0",
   "metadata": {},
   "outputs": [],
   "source": []
  }
 ],
 "metadata": {
  "kernelspec": {
   "display_name": "Python 3 (ipykernel)",
   "language": "python",
   "name": "python3"
  },
  "language_info": {
   "codemirror_mode": {
    "name": "ipython",
    "version": 3
   },
   "file_extension": ".py",
   "mimetype": "text/x-python",
   "name": "python",
   "nbconvert_exporter": "python",
   "pygments_lexer": "ipython3",
   "version": "3.9.7"
  }
 },
 "nbformat": 4,
 "nbformat_minor": 5
}
